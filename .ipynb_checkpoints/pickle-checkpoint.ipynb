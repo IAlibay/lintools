{
 "cells": [
  {
   "cell_type": "code",
   "execution_count": 1,
   "metadata": {
    "collapsed": true
   },
   "outputs": [],
   "source": [
    "import cPickle as pickle\n",
    "import MDAnalysis\n",
    "from StringIO import StringIO\n",
    "from rdkit import Chem"
   ]
  },
  {
   "cell_type": "code",
   "execution_count": 2,
   "metadata": {
    "collapsed": false
   },
   "outputs": [],
   "source": [
    "from lintools.lintools import Lintools\n",
    "from lintools.testdata.datafiles import *"
   ]
  },
  {
   "cell_type": "code",
   "execution_count": 3,
   "metadata": {
    "collapsed": true
   },
   "outputs": [],
   "source": [
    "class pickle_tests(object):\n",
    "    def setUp(self):\n",
    "        u =MDAnalysis.Universe(AMI_GRO)\n",
    "        lig_name = u.select_atoms(\"resname UNK\")\n",
    "        self.test_svg = TEST1\n",
    "        self.output_name = \"test1_1\"\n",
    "        self.lintools = Lintools(AMI_GRO,[],AMI_MOL2,lig_name,30,3.5,[1],[None],[None],0.3,\"amino\",self.output_name)\n",
    "        self.lintools.save_files()\n",
    "        self.lintools.data_input_and_res_time_analysis()\n",
    "        self.lintools.analysis_of_prot_lig_interactions(False,False,False,False,False)\n",
    "        self.lintools.plot_residues()\n",
    "        self.lintools.draw_figure()\n",
    "    def tearDown(self):\n",
    "        self.lintools.remove_files()\n",
    "    \n",
    "\n"
   ]
  },
  {
   "cell_type": "code",
   "execution_count": 4,
   "metadata": {
    "collapsed": true
   },
   "outputs": [],
   "source": [
    "pickletest = pickle_tests()"
   ]
  },
  {
   "cell_type": "code",
   "execution_count": 5,
   "metadata": {
    "collapsed": false
   },
   "outputs": [
    {
     "name": "stdout",
     "output_type": "stream",
     "text": [
      "Residence_time   frame    0/1   [0%]\r"
     ]
    },
    {
     "name": "stderr",
     "output_type": "stream",
     "text": [
      "/Users/lauradomicevica/anaconda/lib/python2.7/site-packages/MDAnalysis/coordinates/base.py:733: UserWarning: Reader has no dt information, set to 1.0 ps\n",
      "  warnings.warn(\"Reader has no dt information, set to 1.0 ps\")\n",
      "/Users/lauradomicevica/anaconda/lib/python2.7/site-packages/MDAnalysis/analysis/hbonds/hbond_analysis.py:566: DeprecationWarning: The donor and acceptor indices being 1-based is deprecated in favor of a zero-based index. These can be accessed by 'donor_index' or 'acceptor_index', removal of the 1-based indices is targeted for version 0.16.0\n",
      "  \" version 0.16.0\", category=DeprecationWarning)\n",
      "/Users/lauradomicevica/anaconda/lib/python2.7/site-packages/MDAnalysis/core/AtomGroup.py:477: DeprecationWarning: In version 0.16.0, use `residue.atoms.names` instead.\n",
      "  DeprecationWarning)\n",
      "/Users/lauradomicevica/anaconda/lib/python2.7/site-packages/MDAnalysis/core/AtomGroup.py:477: DeprecationWarning: In version 0.16.0, use `residue.atoms.indices` instead.\n",
      "  DeprecationWarning)\n",
      "/Users/lauradomicevica/anaconda/lib/python2.7/site-packages/MDAnalysis/core/AtomGroup.py:477: DeprecationWarning: In version 0.16.0, use `residue.atoms.types` instead.\n",
      "  DeprecationWarning)\n",
      "/Users/lauradomicevica/anaconda/lib/python2.7/site-packages/numpy/lib/utils.py:99: DeprecationWarning: `coordinates` is deprecated!\n",
      "This will be removed in version 0.16.0; use `positions` property instead\n",
      "  warnings.warn(depdoc, DeprecationWarning)\n",
      "/Users/lauradomicevica/anaconda/lib/python2.7/site-packages/MDAnalysis/analysis/hbonds/hbond_analysis.py:660: SelectionWarning: No acceptors found in selection 1. You might have to specify a custom 'acceptors' keyword. Selection will update so continuing with fingers crossed.\n",
      "  warnings.warn(errmsg, category=SelectionWarning)\n",
      "WARNING:MDAnalysis.analysis.hbonds:No acceptors found in selection 1. You might have to specify a custom 'acceptors' keyword. Selection will update so continuing with fingers crossed.\n",
      "HBonds frame     1/1 [100.0%]\n"
     ]
    },
    {
     "name": "stdout",
     "output_type": "stream",
     "text": [
      "Residence_time   frame    1/1   [100%]\r",
      "Residence time: 0.287378072739Pistack_segid: "
     ]
    },
    {
     "name": "stderr",
     "output_type": "stream",
     "text": [
      "/Users/lauradomicevica/anaconda/lib/python2.7/site-packages/MDAnalysis/core/AtomGroup.py:528: DeprecationWarning: In version 0.16.0, use `residue.atoms.segids` instead.\n",
      "  DeprecationWarning)\n",
      "/Users/lauradomicevica/anaconda/lib/python2.7/site-packages/MDAnalysis/core/AtomGroup.py:525: DeprecationWarning: In version 0.16.0, use `residuegroup.segments.segids` instead.\n",
      "  DeprecationWarning)\n"
     ]
    },
    {
     "name": "stdout",
     "output_type": "stream",
     "text": [
      " SYSTEM\n",
      "Pistack_segid:  SYSTEM\n",
      "Pistack_segid:  SYSTEM\n",
      "Pistack_segid:  SYSTEM\n",
      "Pistack_segid:  SYSTEM\n",
      "Pi-Stacking:0.162701845169\n",
      "SASA: 1.19015192986"
     ]
    },
    {
     "name": "stderr",
     "output_type": "stream",
     "text": [
      "/Users/lauradomicevica/anaconda/lib/python2.7/site-packages/mdtraj/core/trajectory.py:413: UserWarning: top= kwarg ignored since file contains topology information\n",
      "  warnings.warn('top= kwarg ignored since file contains topology information')\n",
      "lintools/analysis/salt_bridges.py:130: VisibleDeprecationWarning: using a non-integer number instead of an integer will result in an error in the future\n",
      "  out = np.empty((num_records,),dtype=dtype)\n"
     ]
    },
    {
     "name": "stdout",
     "output_type": "stream",
     "text": [
      "\n",
      "Salt Bridges:0.147483110428\n",
      "Drawing molecule:6.17545008659\n"
     ]
    }
   ],
   "source": [
    "pickletest.setUp()"
   ]
  },
  {
   "cell_type": "code",
   "execution_count": null,
   "metadata": {
    "collapsed": false
   },
   "outputs": [],
   "source": [
    "pickletest.lintools.molecule.x"
   ]
  },
  {
   "cell_type": "code",
   "execution_count": 20,
   "metadata": {
    "collapsed": false
   },
   "outputs": [],
   "source": [
    "class DataStorage(object):\n",
    "    def __init__(self,lintools):\n",
    "        self.store_input_parameters(lintools)\n",
    "        self.store_analysis_data(lintools)\n",
    "        self.store_molecule_data(lintools)\n",
    "    def store_input_parameters(self, lintools):\n",
    "        self.topology = lintools.topology\n",
    "        self.trajectory = lintools.trajectory\n",
    "        self.mol2_rdkit = lintools.topol_data.mol2\n",
    "        self.mol2_file = lintools.mol2_file\n",
    "        self.ligand = lintools.ligand\n",
    "        self.offset = lintools.offset\n",
    "        self.cutoff = lintools.cutoff\n",
    "        self.start = lintools.start \n",
    "        self.end = lintools.end\n",
    "        self.skip = lintools.skip\n",
    "        self.analysis_cutoff = lintools.analysis_cutoff\n",
    "    def store_analysis_data(self, lintools):\n",
    "        self.residence_time_counts = lintools.res_time.residue_counts\n",
    "        self.lig_descr = lintools.lig_descr.ligand_atoms\n",
    "        self.rotatable_bonds = lintools.lig_descr.rot_bonds\n",
    "        self.hbonds = (lambda x: lintools.hbonds.hbonds if x!=None else None)(lintools.hbonds)\n",
    "        self.pistacking = (lambda x: lintools.pistacking.pistacking if x!=None else None)(lintools.pistacking)\n",
    "        self.salt_bridges = (lambda x: lintools.salt_bridges.saltbridges if x!=None else None)(lintools.salt_bridges)\n",
    "    def store_molecule_data(self, lintools):\n",
    "        self.molsize1 = lintools.molecule.molsize1\n",
    "        self.molsize2 = lintools.molecule.molsize2\n",
    "        self.x_dim = lintools.molecule.x_dim\n",
    "        self.y_dim = lintools.molecule.y_dim\n",
    "        self.nearest_points_coords = lintools.molecule.nearest_points_coords\n",
    "        self.ligand_atom_coords_from_diagr = lintools.molecule.ligand_atom_coords_from_diagr"
   ]
  },
  {
   "cell_type": "code",
   "execution_count": 21,
   "metadata": {
    "collapsed": false
   },
   "outputs": [],
   "source": [
    "data = DataStorage(pickletest.lintools)\n"
   ]
  },
  {
   "cell_type": "code",
   "execution_count": 22,
   "metadata": {
    "collapsed": false
   },
   "outputs": [],
   "source": [
    "d = pickle.dumps(data)"
   ]
  },
  {
   "cell_type": "code",
   "execution_count": 23,
   "metadata": {
    "collapsed": false
   },
   "outputs": [],
   "source": [
    "d1 = pickle.loads(d)"
   ]
  },
  {
   "cell_type": "code",
   "execution_count": 25,
   "metadata": {
    "collapsed": false
   },
   "outputs": [
    {
     "data": {
      "text/plain": [
       "{0: rec.array([], \n",
       "           dtype=[('time', '<f8'), ('donor_idx', '<i8'), ('acceptor_idx', '<i8'), ('donor_index', '<i8'), ('acceptor_index', '<i8'), ('donor_resnm', '<U4'), ('donor_resid', '<i8'), ('donor_atom', '<U4'), ('acceptor_resnm', '<U4'), ('acceptor_resid', '<i8'), ('acceptor_atom', '<U4'), ('distance', '<f8'), ('angle', '<f8')])}"
      ]
     },
     "execution_count": 25,
     "metadata": {},
     "output_type": "execute_result"
    }
   ],
   "source": [
    "d1.hbonds"
   ]
  },
  {
   "cell_type": "code",
   "execution_count": null,
   "metadata": {
    "collapsed": true
   },
   "outputs": [],
   "source": []
  }
 ],
 "metadata": {
  "kernelspec": {
   "display_name": "Python 2",
   "language": "python",
   "name": "python2"
  },
  "language_info": {
   "codemirror_mode": {
    "name": "ipython",
    "version": 2
   },
   "file_extension": ".py",
   "mimetype": "text/x-python",
   "name": "python",
   "nbconvert_exporter": "python",
   "pygments_lexer": "ipython2",
   "version": "2.7.12"
  }
 },
 "nbformat": 4,
 "nbformat_minor": 0
}
