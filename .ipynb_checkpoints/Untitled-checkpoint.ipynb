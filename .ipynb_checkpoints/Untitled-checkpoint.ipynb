{
 "cells": [
  {
   "cell_type": "code",
   "execution_count": 1,
   "metadata": {
    "collapsed": false
   },
   "outputs": [],
   "source": [
    "import MDAnalysis\n",
    "import sys\n",
    "from rdkit import Chem\n",
    "from MDAnalysis.analysis import distances \n",
    "from MDAnalysis.analysis import hbonds\n",
    "from rdkit.Chem.Draw import IPythonConsole\n",
    "import operator\n",
    "import matplotlib\n",
    "matplotlib.use('Agg')\n",
    "import matplotlib.pyplot as plt\n",
    "from matplotlib import pylab"
   ]
  },
  {
   "cell_type": "code",
   "execution_count": 2,
   "metadata": {
    "collapsed": true
   },
   "outputs": [],
   "source": [
    "import rdkit\n",
    "from rdkit import Chem\n",
    "from rdkit.Chem import AllChem\n",
    "from rdkit.Chem import Draw\n",
    "from rdkit.Chem.Draw import rdMolDraw2D\n",
    "from rdkit.Chem import rdDepictor\n",
    "from shapely import geometry\n",
    "import numpy as np\n",
    "from itertools import combinations\n",
    "import colorsys\n",
    "import operator\n",
    "from IPython.display import SVG"
   ]
  },
  {
   "cell_type": "code",
   "execution_count": null,
   "metadata": {
    "collapsed": false
   },
   "outputs": [],
   "source": [
    "class check_rdkit(object):\n",
    "    def load_molecule_in_rdkit_smiles(self,mol2_file, molSize=(900,450),kekulize=True):\n",
    "        highlight=[]\n",
    "        colors={}\n",
    "        try:\n",
    "            self.mol2 = Chem.MolFromMol2File(mol2_file,removeHs=False)\n",
    "            mol = Chem.MolFromSmarts('[$([N;!H0;v3]),$([N;!H0;+1;v4]),$([O,S;H1;+0]),$([n;H1;+0])]')\n",
    "            self.mol2.GetSubstructMatches(mol, uniquify=1)\n",
    "        except AttributeError:\n",
    "            self.mol2 = Chem.MolFromMol2File(mol2_file,removeHs=False,sanitize=False)\n",
    "            self.mol2.UpdatePropertyCache(strict=False) \n",
    "        mol2_in_rdkit = self.mol2\n",
    "        try:\n",
    "            mol2_in_rdkit = Chem.RemoveHs(mol2_in_rdkit)\n",
    "            self.smiles = Chem.MolFromSmiles(Chem.MolToSmiles(mol2_in_rdkit))\n",
    "        except ValueError:\n",
    "            mol2_in_rdkit = Chem.RemoveHs(mol2_in_rdkit, sanitize = False)\n",
    "            self.smiles = Chem.MolFromSmiles(Chem.MolToSmiles(mol2_in_rdkit), sanitize=False)\n",
    "        self.atom_identities = {}\n",
    "        i=0\n",
    "        for atom in self.smiles.GetAtoms():\n",
    "            self.atom_identities[mol2_in_rdkit.GetProp('_smilesAtomOutputOrder')[1:].rsplit(\",\")[i]] = atom.GetIdx()\n",
    "            i+=1\n",
    "        mc = Chem.Mol(self.smiles.ToBinary())\n",
    "        if kekulize:\n",
    "            try:\n",
    "                Chem.Kekulize(mc)\n",
    "            except:\n",
    "                mc = Chem.Mol(self.smiles.ToBinary())\n",
    "        if not mc.GetNumConformers():\n",
    "            rdDepictor.Compute2DCoords(mc)\n",
    "        for i in range(mol2_in_rdkit.GetNumAtoms()):\n",
    "            highlight.append(i)\n",
    "            colors[i]=(1,1,1)\n",
    "        drawer = rdMolDraw2D.MolDraw2DSVG(molSize[0],molSize[1])\n",
    "        drawer.DrawMolecule(mc,highlightAtoms=highlight,highlightBonds=[], highlightAtomColors=colors)\n",
    "        drawer.FinishDrawing()\n",
    "        self.svg = drawer.GetDrawingText().replace('svg:','')\n",
    "        filesvg = open(\"molecule.svg\", \"w+\")\n",
    "        filesvg.write(self.svg)\n",
    "\n",
    "            "
   ]
  },
  {
   "cell_type": "code",
   "execution_count": null,
   "metadata": {
    "collapsed": true
   },
   "outputs": [],
   "source": [
    "list_of_molecules = [\"/Users/lauradomicevica/files_for_lintools_testing/list_of_ligands/robotnikinin.mol2\",\"/Users/lauradomicevica/files_for_lintools_testing/list_of_ligands/EJ4.mol2\",\"/Users/lauradomicevica/files_for_lintools_testing/LDP.mol2\"]"
   ]
  },
  {
   "cell_type": "code",
   "execution_count": null,
   "metadata": {
    "collapsed": false
   },
   "outputs": [],
   "source": [
    "c = check_rdkit()"
   ]
  },
  {
   "cell_type": "code",
   "execution_count": null,
   "metadata": {
    "collapsed": false
   },
   "outputs": [],
   "source": [
    "c.load_molecule_in_rdkit_smiles(list_of_molecules[1])"
   ]
  },
  {
   "cell_type": "code",
   "execution_count": null,
   "metadata": {
    "collapsed": false
   },
   "outputs": [],
   "source": [
    "c.smiles"
   ]
  },
  {
   "cell_type": "code",
   "execution_count": null,
   "metadata": {
    "collapsed": false
   },
   "outputs": [],
   "source": [
    "c.mol2"
   ]
  },
  {
   "cell_type": "code",
   "execution_count": null,
   "metadata": {
    "collapsed": true
   },
   "outputs": [],
   "source": []
  },
  {
   "cell_type": "code",
   "execution_count": null,
   "metadata": {
    "collapsed": true
   },
   "outputs": [],
   "source": []
  },
  {
   "cell_type": "code",
   "execution_count": null,
   "metadata": {
    "collapsed": false
   },
   "outputs": [],
   "source": []
  },
  {
   "cell_type": "code",
   "execution_count": null,
   "metadata": {
    "collapsed": false
   },
   "outputs": [],
   "source": []
  },
  {
   "cell_type": "code",
   "execution_count": null,
   "metadata": {
    "collapsed": false
   },
   "outputs": [],
   "source": []
  },
  {
   "cell_type": "code",
   "execution_count": null,
   "metadata": {
    "collapsed": false
   },
   "outputs": [],
   "source": []
  },
  {
   "cell_type": "code",
   "execution_count": 92,
   "metadata": {
    "collapsed": false
   },
   "outputs": [
    {
     "data": {
      "image/svg+xml": [
       "<svg baseProfile=\"full\" height=\"900px\" version=\"1.1\" width=\"450px\" xml:space=\"preserve\" xmlns:rdkit=\"http://www.rdkit.org/xml\" xmlns:svg=\"http://www.w3.org/2000/svg\" xmlns:xlink=\"http://www.w3.org/1999/xlink\">\n",
       "<rect height=\"900\" style=\"opacity:1.0;fill:#FFFFFF;stroke:none\" width=\"450\" x=\"0\" y=\"0\"> </rect>\n",
       "<ellipse cx=\"64.799\" cy=\"523.02\" rx=\"8.05048\" ry=\"8.05048\" style=\"fill:#440154;fill-rule:evenodd;stroke:#440154;stroke-width:1px;stroke-linecap:butt;stroke-linejoin:miter;stroke-opacity:1\"/>\n",
       "<ellipse cx=\"429.422\" cy=\"559.66\" rx=\"23.4219\" ry=\"23.4219\" style=\"fill:#F1E51C;fill-rule:evenodd;stroke:#F1E51C;stroke-width:1px;stroke-linecap:butt;stroke-linejoin:miter;stroke-opacity:1\"/>\n",
       "<ellipse cx=\"198.956\" cy=\"310.257\" rx=\"23.4219\" ry=\"23.4219\" style=\"fill:#F1E51C;fill-rule:evenodd;stroke:#F1E51C;stroke-width:1px;stroke-linecap:butt;stroke-linejoin:miter;stroke-opacity:1\"/>\n",
       "<ellipse cx=\"429.545\" cy=\"499.282\" rx=\"23.4219\" ry=\"23.4219\" style=\"fill:#F1E51C;fill-rule:evenodd;stroke:#F1E51C;stroke-width:1px;stroke-linecap:butt;stroke-linejoin:miter;stroke-opacity:1\"/>\n",
       "<ellipse cx=\"259.156\" cy=\"314.892\" rx=\"23.4219\" ry=\"23.4219\" style=\"fill:#F1E51C;fill-rule:evenodd;stroke:#F1E51C;stroke-width:1px;stroke-linecap:butt;stroke-linejoin:miter;stroke-opacity:1\"/>\n",
       "<ellipse cx=\"164.842\" cy=\"360.075\" rx=\"23.4219\" ry=\"23.4219\" style=\"fill:#F1E51C;fill-rule:evenodd;stroke:#F1E51C;stroke-width:1px;stroke-linecap:butt;stroke-linejoin:miter;stroke-opacity:1\"/>\n",
       "<ellipse cx=\"377.071\" cy=\"589.743\" rx=\"23.4219\" ry=\"23.4219\" style=\"fill:#F1E51C;fill-rule:evenodd;stroke:#F1E51C;stroke-width:1px;stroke-linecap:butt;stroke-linejoin:miter;stroke-opacity:1\"/>\n",
       "<ellipse cx=\"224.463\" cy=\"517.872\" rx=\"22.9309\" ry=\"22.9309\" style=\"fill:#DAE218;fill-rule:evenodd;stroke:#DAE218;stroke-width:1px;stroke-linecap:butt;stroke-linejoin:miter;stroke-opacity:1\"/>\n",
       "<ellipse cx=\"190.928\" cy=\"414.527\" rx=\"23.4219\" ry=\"23.4219\" style=\"fill:#F1E51C;fill-rule:evenodd;stroke:#F1E51C;stroke-width:1px;stroke-linecap:butt;stroke-linejoin:miter;stroke-opacity:1\"/>\n",
       "<ellipse cx=\"324.844\" cy=\"559.447\" rx=\"23.4219\" ry=\"23.4219\" style=\"fill:#F1E51C;fill-rule:evenodd;stroke:#F1E51C;stroke-width:1px;stroke-linecap:butt;stroke-linejoin:miter;stroke-opacity:1\"/>\n",
       "<ellipse cx=\"268.807\" cy=\"476.895\" rx=\"22.9309\" ry=\"22.9309\" style=\"fill:#DAE218;fill-rule:evenodd;stroke:#DAE218;stroke-width:1px;stroke-linecap:butt;stroke-linejoin:miter;stroke-opacity:1\"/>\n",
       "<ellipse cx=\"166.803\" cy=\"499.958\" rx=\"19.5354\" ry=\"19.5354\" style=\"fill:#EEE51B;fill-rule:evenodd;stroke:#EEE51B;stroke-width:1px;stroke-linecap:butt;stroke-linejoin:miter;stroke-opacity:1\"/>\n",
       "<ellipse cx=\"377.318\" cy=\"468.986\" rx=\"24.1514\" ry=\"24.1514\" style=\"fill:#ECE41A;fill-rule:evenodd;stroke:#ECE41A;stroke-width:1px;stroke-linecap:butt;stroke-linejoin:miter;stroke-opacity:1\"/>\n",
       "<ellipse cx=\"285.242\" cy=\"369.345\" rx=\"24.1514\" ry=\"24.1514\" style=\"fill:#ECE41A;fill-rule:evenodd;stroke:#ECE41A;stroke-width:1px;stroke-linecap:butt;stroke-linejoin:miter;stroke-opacity:1\"/>\n",
       "<ellipse cx=\"324.967\" cy=\"499.068\" rx=\"24.1514\" ry=\"24.1514\" style=\"fill:#ECE41A;fill-rule:evenodd;stroke:#ECE41A;stroke-width:1px;stroke-linecap:butt;stroke-linejoin:miter;stroke-opacity:1\"/>\n",
       "<ellipse cx=\"251.128\" cy=\"419.162\" rx=\"24.1514\" ry=\"24.1514\" style=\"fill:#ECE41A;fill-rule:evenodd;stroke:#ECE41A;stroke-width:1px;stroke-linecap:butt;stroke-linejoin:miter;stroke-opacity:1\"/>\n",
       "<ellipse cx=\"386.439\" cy=\"409.3\" rx=\"19.4666\" ry=\"19.4666\" style=\"fill:#AFDC2E;fill-rule:evenodd;stroke:#AFDC2E;stroke-width:1px;stroke-linecap:butt;stroke-linejoin:miter;stroke-opacity:1\"/>\n",
       "<ellipse cx=\"345.461\" cy=\"364.956\" rx=\"19.4666\" ry=\"19.4666\" style=\"fill:#AFDC2E;fill-rule:evenodd;stroke:#AFDC2E;stroke-width:1px;stroke-linecap:butt;stroke-linejoin:miter;stroke-opacity:1\"/>\n",
       "<ellipse cx=\"122.459\" cy=\"540.935\" rx=\"20.6826\" ry=\"20.6826\" style=\"fill:#7ED24E;fill-rule:evenodd;stroke:#7ED24E;stroke-width:1px;stroke-linecap:butt;stroke-linejoin:miter;stroke-opacity:1\"/>\n",
       "<ellipse cx=\"20.4545\" cy=\"563.998\" rx=\"20.6826\" ry=\"20.6826\" style=\"fill:#7ED24E;fill-rule:evenodd;stroke:#7ED24E;stroke-width:1px;stroke-linecap:butt;stroke-linejoin:miter;stroke-opacity:1\"/>\n",
       "<ellipse cx=\"51.4837\" cy=\"464.128\" rx=\"20.6826\" ry=\"20.6826\" style=\"fill:#7ED24E;fill-rule:evenodd;stroke:#7ED24E;stroke-width:1px;stroke-linecap:butt;stroke-linejoin:miter;stroke-opacity:1\"/>\n",
       "<path d=\"M 80.4292,527.876 101.444,534.406\" style=\"fill:none;fill-rule:evenodd;stroke:#0000FF;stroke-width:2px;stroke-linecap:butt;stroke-linejoin:miter;stroke-opacity:1\"/>\n",
       "<path d=\"M 101.444,534.406 122.459,540.935\" style=\"fill:none;fill-rule:evenodd;stroke:#000000;stroke-width:2px;stroke-linecap:butt;stroke-linejoin:miter;stroke-opacity:1\"/>\n",
       "<path d=\"M 55.8711,531.27 38.1628,547.634\" style=\"fill:none;fill-rule:evenodd;stroke:#0000FF;stroke-width:2px;stroke-linecap:butt;stroke-linejoin:miter;stroke-opacity:1\"/>\n",
       "<path d=\"M 38.1628,547.634 20.4545,563.998\" style=\"fill:none;fill-rule:evenodd;stroke:#000000;stroke-width:2px;stroke-linecap:butt;stroke-linejoin:miter;stroke-opacity:1\"/>\n",
       "<path d=\"M 62.9337,514.77 57.2087,489.449\" style=\"fill:none;fill-rule:evenodd;stroke:#0000FF;stroke-width:2px;stroke-linecap:butt;stroke-linejoin:miter;stroke-opacity:1\"/>\n",
       "<path d=\"M 57.2087,489.449 51.4837,464.128\" style=\"fill:none;fill-rule:evenodd;stroke:#000000;stroke-width:2px;stroke-linecap:butt;stroke-linejoin:miter;stroke-opacity:1\"/>\n",
       "<path d=\"M 429.422,559.66 377.071,589.743\" style=\"fill:none;fill-rule:evenodd;stroke:#000000;stroke-width:2px;stroke-linecap:butt;stroke-linejoin:miter;stroke-opacity:1\"/>\n",
       "<path d=\"M 415.553,553.703 378.907,574.76\" style=\"fill:none;fill-rule:evenodd;stroke:#000000;stroke-width:2px;stroke-linecap:butt;stroke-linejoin:miter;stroke-opacity:1\"/>\n",
       "<path d=\"M 429.422,559.66 429.545,499.282\" style=\"fill:none;fill-rule:evenodd;stroke:#000000;stroke-width:2px;stroke-linecap:butt;stroke-linejoin:miter;stroke-opacity:1\"/>\n",
       "<path d=\"M 198.956,310.257 259.156,314.892\" style=\"fill:none;fill-rule:evenodd;stroke:#000000;stroke-width:2px;stroke-linecap:butt;stroke-linejoin:miter;stroke-opacity:1\"/>\n",
       "<path d=\"M 207.059,322.993 249.199,326.237\" style=\"fill:none;fill-rule:evenodd;stroke:#000000;stroke-width:2px;stroke-linecap:butt;stroke-linejoin:miter;stroke-opacity:1\"/>\n",
       "<path d=\"M 198.956,310.257 164.842,360.075\" style=\"fill:none;fill-rule:evenodd;stroke:#000000;stroke-width:2px;stroke-linecap:butt;stroke-linejoin:miter;stroke-opacity:1\"/>\n",
       "<path d=\"M 429.545,499.282 377.318,468.986\" style=\"fill:none;fill-rule:evenodd;stroke:#000000;stroke-width:2px;stroke-linecap:butt;stroke-linejoin:miter;stroke-opacity:1\"/>\n",
       "<path d=\"M 415.652,505.183 379.093,483.976\" style=\"fill:none;fill-rule:evenodd;stroke:#000000;stroke-width:2px;stroke-linecap:butt;stroke-linejoin:miter;stroke-opacity:1\"/>\n",
       "<path d=\"M 259.156,314.892 285.242,369.345\" style=\"fill:none;fill-rule:evenodd;stroke:#000000;stroke-width:2px;stroke-linecap:butt;stroke-linejoin:miter;stroke-opacity:1\"/>\n",
       "<path d=\"M 164.842,360.075 190.928,414.527\" style=\"fill:none;fill-rule:evenodd;stroke:#000000;stroke-width:2px;stroke-linecap:butt;stroke-linejoin:miter;stroke-opacity:1\"/>\n",
       "<path d=\"M 179.645,363.025 197.905,401.142\" style=\"fill:none;fill-rule:evenodd;stroke:#000000;stroke-width:2px;stroke-linecap:butt;stroke-linejoin:miter;stroke-opacity:1\"/>\n",
       "<path d=\"M 377.071,589.743 324.844,559.447\" style=\"fill:none;fill-rule:evenodd;stroke:#000000;stroke-width:2px;stroke-linecap:butt;stroke-linejoin:miter;stroke-opacity:1\"/>\n",
       "<path d=\"M 224.463,517.872 268.807,476.895\" style=\"fill:none;fill-rule:evenodd;stroke:#000000;stroke-width:2px;stroke-linecap:butt;stroke-linejoin:miter;stroke-opacity:1\"/>\n",
       "<path d=\"M 224.463,517.872 166.803,499.958\" style=\"fill:none;fill-rule:evenodd;stroke:#000000;stroke-width:2px;stroke-linecap:butt;stroke-linejoin:miter;stroke-opacity:1\"/>\n",
       "<path d=\"M 190.928,414.527 251.128,419.162\" style=\"fill:none;fill-rule:evenodd;stroke:#000000;stroke-width:2px;stroke-linecap:butt;stroke-linejoin:miter;stroke-opacity:1\"/>\n",
       "<path d=\"M 324.844,559.447 324.967,499.068\" style=\"fill:none;fill-rule:evenodd;stroke:#000000;stroke-width:2px;stroke-linecap:butt;stroke-linejoin:miter;stroke-opacity:1\"/>\n",
       "<path d=\"M 336.938,550.415 337.024,508.15\" style=\"fill:none;fill-rule:evenodd;stroke:#000000;stroke-width:2px;stroke-linecap:butt;stroke-linejoin:miter;stroke-opacity:1\"/>\n",
       "<path d=\"M 268.807,476.895 324.967,499.068\" style=\"fill:none;fill-rule:evenodd;stroke:#000000;stroke-width:2px;stroke-linecap:butt;stroke-linejoin:miter;stroke-opacity:1\"/>\n",
       "<path d=\"M 268.807,476.895 251.128,419.162\" style=\"fill:none;fill-rule:evenodd;stroke:#000000;stroke-width:2px;stroke-linecap:butt;stroke-linejoin:miter;stroke-opacity:1\"/>\n",
       "<path d=\"M 166.803,499.958 122.459,540.935\" style=\"fill:none;fill-rule:evenodd;stroke:#000000;stroke-width:2px;stroke-linecap:butt;stroke-linejoin:miter;stroke-opacity:1\"/>\n",
       "<path d=\"M 377.318,468.986 324.967,499.068\" style=\"fill:none;fill-rule:evenodd;stroke:#000000;stroke-width:2px;stroke-linecap:butt;stroke-linejoin:miter;stroke-opacity:1\"/>\n",
       "<path d=\"M 377.318,468.986 386.439,409.3\" style=\"fill:none;fill-rule:evenodd;stroke:#000000;stroke-width:2px;stroke-linecap:butt;stroke-linejoin:miter;stroke-opacity:1\"/>\n",
       "<path d=\"M 285.242,369.345 345.461,364.956\" style=\"fill:none;fill-rule:evenodd;stroke:#000000;stroke-width:2px;stroke-linecap:butt;stroke-linejoin:miter;stroke-opacity:1\"/>\n",
       "<path d=\"M 285.242,369.345 251.128,419.162\" style=\"fill:none;fill-rule:evenodd;stroke:#000000;stroke-width:2px;stroke-linecap:butt;stroke-linejoin:miter;stroke-opacity:1\"/>\n",
       "<path d=\"M 290.089,383.64 266.209,418.513\" style=\"fill:none;fill-rule:evenodd;stroke:#000000;stroke-width:2px;stroke-linecap:butt;stroke-linejoin:miter;stroke-opacity:1\"/>\n",
       "<path d=\"M 386.439,409.3 345.461,364.956\" style=\"fill:none;fill-rule:evenodd;stroke:#000000;stroke-width:2px;stroke-linecap:butt;stroke-linejoin:miter;stroke-opacity:1\"/>\n",
       "<text style=\"font-size:15px;font-style:normal;font-weight:normal;fill-opacity:1;stroke:none;font-family:sans-serif;text-anchor:start;fill:#0000FF\" x=\"49.1687\" y=\"531.27\"><tspan>NH</tspan><tspan style=\"baseline-shift:super;font-size:11.25px;\">+</tspan><tspan/></text>\n",
       "<text style=\"font-size:12px;font-style:normal;font-weight:normal;fill-opacity:1;stroke:none;font-family:sans-serif;text-anchor:start;fill:#000000\" x=\"185.78\" y=\"852\"><tspan>Amitriptyline</tspan></text>\n",
       "</svg>"
      ],
      "text/plain": [
       "<IPython.core.display.SVG object>"
      ]
     },
     "execution_count": 92,
     "metadata": {},
     "output_type": "execute_result"
    }
   ],
   "source": [
    "from rdkit.Chem import rdDepictor\n",
    "from rdkit.Chem.Draw import rdMolDraw2D\n",
    "from rdkit.Chem import rdMolDescriptors\n",
    "class relation(object):\n",
    "    def moltosvg(self,mol,molSize=(450,900),kekulize=True,logp=True,color_type):\n",
    "        contribs = rdMolDescriptors._CalcCrippenContribs(mol)\n",
    "        color_type=\"viridis\"\n",
    "        cmap = plt.get_cmap(color_type)\n",
    "        min_value = min([x for x,y in contribs])\n",
    "        max_value = max([x for x,y in contribs])\n",
    "\n",
    "        norm = matplotlib.colors.Normalize(vmin=float(\"{0:.1f}\".format(min_value)), vmax=float(\"{0:.1f}\".format(max_value)))\n",
    "        \n",
    "        self.color = [cmap(norm(x)) for x,y in contribs]\n",
    "        min_c =min([y for x,y in contribs])\n",
    "        max_c = max([y+abs(min_c) for x,y in contribs])\n",
    "\n",
    "\n",
    "        self.size = [((y+abs(min_c))/max_c)*0.4+0.2 for x,y in contribs]\n",
    "        highlight=[]\n",
    "        colors = {}\n",
    "        size_new={}\n",
    "        mc = Chem.Mol(mol.ToBinary())\n",
    "        if kekulize:\n",
    "            try:\n",
    "                Chem.Kekulize(mc)\n",
    "            except:\n",
    "                mc = Chem.Mol(mol.ToBinary())\n",
    "        \n",
    "        rdDepictor.Compute2DCoords(mc)\n",
    "        for i in range(mol.GetNumAtoms()):\n",
    "                highlight.append(i)\n",
    "\n",
    "                colors[i]=(self.color[i][0],self.color[i][1],self.color[i][2])\n",
    "                size_new[i]=self.size[i]\n",
    "        drawer = rdMolDraw2D.MolDraw2DSVG(molSize[0],molSize[1])\n",
    "        drawer.DrawMolecule(mc,highlightAtoms=highlight,highlightBonds=[], highlightAtomColors=colors,highlightAtomRadii=size_new,legend=\"Amitriptyline\")\n",
    "        drawer.FinishDrawing()\n",
    "        svg = drawer.GetDrawingText().replace('svg:','')\n",
    "        # It seems that the svg renderer used doesn't quite hit the spec.\n",
    "        # Here are some fixes to make it work in the notebook, although I think\n",
    "        # the underlying issue needs to be resolved at the generation step\n",
    "        filesvg = open(\"molecule.svg\", \"w+\")\n",
    "        filesvg.write(svg)\n",
    "        return svg.replace('svg:','')\n",
    "\n",
    "n = Chem.MolFromSmiles('Oc1ccc2c3c1O[C@@H]1[C@@]43CC[N@@H+]([C@H](C2)[C@]4(O)Cc2c1[nH]c1c2cccc1)CC1CC1')\n",
    "    \n",
    "g = relation()\n",
    "mol = Chem.MolFromMol2File(\"/Users/lauradomicevica/lintools_v1.1/lintools/testdata/ami/lig.mol2\")\n",
    "SVG(g.moltosvg(mol))"
   ]
  },
  {
   "cell_type": "code",
   "execution_count": null,
   "metadata": {
    "collapsed": false
   },
   "outputs": [],
   "source": [
    "import fileinput\n",
    "import sys\n",
    "contribs = rdMolDescriptors._CalcCrippenContribs(c.mol2)\n",
    "moltosvg(c.smiles)\n",
    "min_c =min([x for x,y in contribs])\n",
    "max_c = max([x+abs(min_c) for x,y in contribs])\n",
    "\n",
    "\n",
    "size = [((x+abs(min_c))/max_c*10)+10 for x,y in contribs]\n",
    "print size\n",
    "init_elipse = \"rx='16.0338' ry='16.0338'\"\n",
    "mol_draw=\"\"\n",
    "with open(\"molecule.svg\",\"r\") as f:\n",
    "    lines = f.readlines()\n",
    "    i=0\n",
    "    for line in lines:\n",
    "        if line.startswith(\"<ellipse\"): \n",
    "            new_ellipse = \"rx='\"+str(size[i])+\"' ry='\"+str(size[i])+\"'\"\n",
    "            line =line.replace(init_elipse,new_ellipse)\n",
    "            i+=1\n",
    "        else:\n",
    "            b =sys.stdout.write(line)\n",
    "        mol_draw = mol_draw+line\n",
    "\n",
    "        "
   ]
  },
  {
   "cell_type": "code",
   "execution_count": null,
   "metadata": {
    "collapsed": false
   },
   "outputs": [],
   "source": [
    "SVG(mol_draw)\n"
   ]
  },
  {
   "cell_type": "code",
   "execution_count": null,
   "metadata": {
    "collapsed": true
   },
   "outputs": [],
   "source": [
    "import MDAnalysis\n",
    "from MDAnalysis.analysis import rms"
   ]
  },
  {
   "cell_type": "code",
   "execution_count": null,
   "metadata": {
    "collapsed": false
   },
   "outputs": [],
   "source": [
    "gro = \"/Users/lauradomicevica/lintools_v1.1/lintools/testdata/ami/lig.gro\"\n",
    "trajectory = \"/Users/lauradomicevica/lintools_v1.1/lintools/testdata/ami/lig.xtc\"\n",
    "u = MDAnalysis.Universe(gro)\n",
    "lig_noH = u.select_atoms(\"resname UNK and not name H*\")"
   ]
  },
  {
   "cell_type": "code",
   "execution_count": null,
   "metadata": {
    "collapsed": false
   },
   "outputs": [],
   "source": [
    "u.load_new(trajectory)\n",
    "R = MDAnalysis.analysis.rms.RMSF(lig_noH)\n",
    "R.run()\n",
    "rmsf_list = R.rmsf.tolist()"
   ]
  },
  {
   "cell_type": "code",
   "execution_count": null,
   "metadata": {
    "collapsed": false
   },
   "outputs": [],
   "source": [
    "rmsf_list"
   ]
  },
  {
   "cell_type": "code",
   "execution_count": null,
   "metadata": {
    "collapsed": false
   },
   "outputs": [],
   "source": [
    "new_list={0: 4.001835960759,\n",
    " 1: 4.620338034305551,\n",
    " 2: 3.093018615631858,\n",
    " 3: 4.177653492676467,\n",
    " 4: 3.018589355562971,\n",
    " 5: 3.318310546426615,\n",
    " 6: 4.746367228271708,\n",
    " 7: 4.240398863322467,\n",
    " 8: 3.5053749106659358,\n",
    " 9: 4.437955486420092,\n",
    " 10: 3.8089193587599035,\n",
    " 11: 4.44399970907304,\n",
    " 12: 3.7781260007473425,\n",
    " 13: 3.141931860325328,\n",
    " 14: 3.933717731855867,\n",
    " 15: 3.399815841107322,\n",
    " 16: 3.5058616300110086,\n",
    " 17: 3.2582946838537956,\n",
    " 18: 4.2984597275687735,\n",
    " 19: 4.728983754619707,\n",
    " 20: 3.641451420010107}"
   ]
  },
  {
   "cell_type": "code",
   "execution_count": null,
   "metadata": {
    "collapsed": false
   },
   "outputs": [],
   "source": []
  },
  {
   "cell_type": "code",
   "execution_count": null,
   "metadata": {
    "collapsed": false
   },
   "outputs": [],
   "source": [
    "from rdkit.Chem import Lipinski\n",
    "from rdkit.Chem import  rdPartialCharges"
   ]
  },
  {
   "cell_type": "code",
   "execution_count": null,
   "metadata": {
    "collapsed": false
   },
   "outputs": [],
   "source": [
    "c = Chem.MolFromMol2File(\"UNK.mol2\")\n",
    "rdPartialCharges.ComputeGasteigerCharges(c)\n",
    "for atom in c.GetAtomWithIdx():\n",
    "    print atom.GetProp(\"_GasteigerCharge\")\n",
    "    print atom.GetFormalCharge()"
   ]
  },
  {
   "cell_type": "code",
   "execution_count": null,
   "metadata": {
    "collapsed": false
   },
   "outputs": [],
   "source": [
    "c.smiles.GetSubstructMatches(RotatableBondSmarts,uniquify=1)"
   ]
  },
  {
   "cell_type": "code",
   "execution_count": null,
   "metadata": {
    "collapsed": true
   },
   "outputs": [],
   "source": [
    "from rdkit import Chem"
   ]
  },
  {
   "cell_type": "code",
   "execution_count": null,
   "metadata": {
    "collapsed": true
   },
   "outputs": [],
   "source": [
    "RotatableBondSmarts = Chem.MolFromSmarts('[!$(*#*)&!D1]-&!@[!$(*#*)&!D1]') "
   ]
  },
  {
   "cell_type": "code",
   "execution_count": null,
   "metadata": {
    "collapsed": true
   },
   "outputs": [],
   "source": [
    "d = Chem.MolFromMol2File(list_of_molecules[2])"
   ]
  },
  {
   "cell_type": "code",
   "execution_count": null,
   "metadata": {
    "collapsed": false
   },
   "outputs": [],
   "source": [
    "d.GetSubstructMatches(RotatableBondSmarts,uniquify=1)"
   ]
  },
  {
   "cell_type": "code",
   "execution_count": null,
   "metadata": {
    "collapsed": false
   },
   "outputs": [],
   "source": [
    "import mdtraj"
   ]
  },
  {
   "cell_type": "code",
   "execution_count": null,
   "metadata": {
    "collapsed": false
   },
   "outputs": [],
   "source": [
    "t = mdtraj.load(\"/Users/lauradomicevica/lintools_v1.1/lintools/testdata/ami/lig.gro\")\n",
    "a = mdtraj.compute_dssp(t)"
   ]
  },
  {
   "cell_type": "code",
   "execution_count": null,
   "metadata": {
    "collapsed": false
   },
   "outputs": [],
   "source": [
    "print[(index,h) for index,h in enumerate(a[0]) if h==\"H\" and a[0][index+1]!=\"H\"]"
   ]
  },
  {
   "cell_type": "code",
   "execution_count": null,
   "metadata": {
    "collapsed": false
   },
   "outputs": [],
   "source": [
    "print a[0][0:1000]"
   ]
  },
  {
   "cell_type": "code",
   "execution_count": null,
   "metadata": {
    "collapsed": false
   },
   "outputs": [],
   "source": [
    "class SaltBridges(object):\n",
    "    def __init__(self,topology_data_object,ligand_descr_object):\n",
    "        self.lig_descr = ligand_descr_object\n",
    "        self.topology_data = topology_data_object\n",
    "    def find_salt_bridges(self):\n",
    "        #Define charge centers for protein\n",
    "        #pos_charge in lysines, arginines and histidines\n",
    "        pos_name={}\n",
    "        for resname in [\"LYS\",\"ARG\",\"HIS\"]:\n",
    "            for residue in u.residues:\n",
    "                if residue.resname ==resname:\n",
    "                    res = residue.atoms\n",
    "                    res.write(\"res.pdb\")\n",
    "                    os.system(\"babel -ipdb res.pdb -omol2 res.mol2 -p\")\n",
    "                    res_rdkit = Chem.MolFromMol2File(\"res.mol2\",removeHs=False)\n",
    "                    formal_charges = []\n",
    "                    for atom in res_rdkit.GetAtoms():\n",
    "                        formal_charges.append(atom.GetFormalCharge())\n",
    "                    pos_index =[index for index,charge in enumerate(formal_charges) if charge!=0]\n",
    "                    pos_name[residue.resname]=[atom.name for index,atom in enumerate(res.atoms) if index in pos_charge and atom.name!=\"N\"]\n",
    "                    break\n",
    "                    \n",
    "        #Negative charge in aspartic and glutamic acids\n",
    "        neg_name={}\n",
    "        for resname in [\"ASP\",\"GLU\"]:\n",
    "            for residue in u.residues:\n",
    "                if residue.resname==resname:\n",
    "                    res = residue.atoms\n",
    "                    res.write(\"res.pdb\")\n",
    "                    os.system(\"babel -ipdb res.pdb -omol2 res.mol2 -p\")\n",
    "                    res_rdkit = Chem.MolFromMol2File(\"res.mol2\",removeHs=False)\n",
    "                    formal_charges = []\n",
    "                    for atom in res_rdkit.GetAtoms():\n",
    "                        formal_charges.append(atom.GetFormalCharge())\n",
    "                    neg_index =[index for index,charge in enumerate(formal_charges) if charge!=0]\n",
    "                    neg_name[residue.resname]=[atom.name for index,atom in enumerate(res.atoms) if index in pos_charge and atom.name!=\"N\"]\n",
    "                    break\n",
    "        \n",
    "        #Measure distances\n",
    "        for atom in self.lig_descr:\n",
    "            if atom[\"Formal charges\"]<0:\n",
    "                for residue in self.topology_data.dict_of_plotted_res:\n",
    "                    if residue[0] in [\"LYS\",\"ARG\",\"HIS\"]:\n",
    "                        pos_res_atom = self.topology_data.universe.select_atoms(\"resname \"+residue[0]+\" and resid \"+residue[1]+\" and segid \"+ residue[2]+\" and name \"+pos_name[residue[0]])\n",
    "                        lig_atom = self.topology_data.universe.ligand.select_atoms(\"name \"+atom[\"name\"])\n",
    "                        dist = self.euclidean3d(pos_res_atom.positions,lig_atom.positions)\n",
    "                        print dist\n",
    "    def euclidean3d(self,v1, v2):\n",
    "        \"\"\"Faster implementation of euclidean distance for the 3D case.\"\"\"\n",
    "        if not len(v1) == 3 and len(v2) == 3:\n",
    "            print(\"Vectors are not in 3D space. Returning None.\")\n",
    "            return None\n",
    "        return np.sqrt((v1[0] - v2[0]) ** 2 + (v1[1] - v2[1]) ** 2 + (v1[2] - v2[2]) ** 2)"
   ]
  },
  {
   "cell_type": "code",
   "execution_count": 26,
   "metadata": {
    "collapsed": false
   },
   "outputs": [],
   "source": [
    "u = MDAnalysis.Universe(\"../Downloads/4mww.pdb\")\n",
    "import os\n",
    "lig = u.select_atoms(\"resname G39\")\n",
    "lig.write(\"osc.pdb\")\n",
    "os.system(\"babel -ipdb osc.pdb -omol2 osc.mol2 --AddPolarH \")\n",
    "mol_rdkit = Chem.MolFromMol2File(\"osc.mol2\",removeHs=False)\n",
    "\n",
    "\n"
   ]
  },
  {
   "cell_type": "code",
   "execution_count": 66,
   "metadata": {
    "collapsed": false
   },
   "outputs": [
    {
     "name": "stdout",
     "output_type": "stream",
     "text": [
      "CG\n"
     ]
    }
   ],
   "source": [
    "pos_name={}\n",
    "for resname in [\"ASP\"]:\n",
    "    for residue in u.residues:\n",
    "        if residue.resname==resname:\n",
    "            res = residue.atoms\n",
    "            #ARG pos = res.select_atoms(\"name C* and around 1.4 (name N* and not name N) \")\n",
    "            #LYS, HIS pos = res.select_atoms(\"name N* and not name N\")\n",
    "            pos = res.select_atoms(\"name C* and around 1.4 (name O* and not name O)\")\n",
    "\n",
    "            print pos.names[0]\n",
    "            break"
   ]
  },
  {
   "cell_type": "code",
   "execution_count": 31,
   "metadata": {
    "collapsed": false
   },
   "outputs": [],
   "source": [
    "arg = Chem.MolFromPDBFile(\"osc.pdb\")"
   ]
  },
  {
   "cell_type": "code",
   "execution_count": 32,
   "metadata": {
    "collapsed": false
   },
   "outputs": [],
   "source": [
    "argH = Chem.AddHs(arg)"
   ]
  },
  {
   "cell_type": "code",
   "execution_count": 34,
   "metadata": {
    "collapsed": false
   },
   "outputs": [],
   "source": [
    "Chem.rd"
   ]
  },
  {
   "cell_type": "code",
   "execution_count": null,
   "metadata": {
    "collapsed": false
   },
   "outputs": [],
   "source": []
  },
  {
   "cell_type": "code",
   "execution_count": null,
   "metadata": {
    "collapsed": false
   },
   "outputs": [],
   "source": []
  },
  {
   "cell_type": "markdown",
   "metadata": {},
   "source": []
  },
  {
   "cell_type": "code",
   "execution_count": null,
   "metadata": {
    "collapsed": false
   },
   "outputs": [],
   "source": []
  },
  {
   "cell_type": "code",
   "execution_count": null,
   "metadata": {
    "collapsed": true
   },
   "outputs": [],
   "source": []
  }
 ],
 "metadata": {
  "kernelspec": {
   "display_name": "Python 2",
   "language": "python",
   "name": "python2"
  },
  "language_info": {
   "codemirror_mode": {
    "name": "ipython",
    "version": 2
   },
   "file_extension": ".py",
   "mimetype": "text/x-python",
   "name": "python",
   "nbconvert_exporter": "python",
   "pygments_lexer": "ipython2",
   "version": "2.7.12"
  }
 },
 "nbformat": 4,
 "nbformat_minor": 0
}
