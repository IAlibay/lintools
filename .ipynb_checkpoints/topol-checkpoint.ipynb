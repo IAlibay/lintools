{
 "cells": [
  {
   "cell_type": "code",
   "execution_count": 235,
   "metadata": {
    "collapsed": false
   },
   "outputs": [],
   "source": [
    "import MDAnalysis\n",
    "import sys\n",
    "from rdkit import Chem\n",
    "from MDAnalysis.analysis import distances \n",
    "from MDAnalysis.analysis import hbonds\n",
    "import operator\n",
    "\n",
    "\n",
    "from collections import Counter\n",
    "from timeit import default_timer as timer\n",
    "from itertools import combinations\n",
    "\n"
   ]
  },
  {
   "cell_type": "code",
   "execution_count": 147,
   "metadata": {
    "collapsed": false
   },
   "outputs": [],
   "source": [
    "#tests\n",
    "__all__ = [\"AMI\"]\n",
    "from pkg_resources import resource_filename\n",
    "\n",
    "AMI = resource_filename(__name__,'testdata/ami/')\n",
    "# This should be the last line: clean up namespace\n",
    "del resource_filename"
   ]
  },
  {
   "cell_type": "code",
   "execution_count": 256,
   "metadata": {
    "collapsed": false
   },
   "outputs": [],
   "source": [
    "#The first function should be to insert just the topology\n",
    "class Data(object):\n",
    "    \"\"\"\n",
    "    This module is used to import datafiles such as topology, trajectory and mol2 files,\n",
    "    as well as several auxillary functions - reorder protein resids and find closest ligand \n",
    "    atoms.\n",
    "    \"\"\"\n",
    "    __version__ = \"09.2016\"\n",
    "    def __init__(self):\n",
    "        self.dict_of_plotted_res = {}\n",
    "        self.closest_atoms = {}\n",
    "    def load_topology(self,topology, parallel=False):\n",
    "        \"\"\"\n",
    "        Loads the topology file (e.g. GRO,PDB,INPCRD) as a MDAnalysis Universe, \n",
    "        checks if it can be loaded. Needs to be run before the equivalent function\n",
    "        topol.load_trajectory() and provides the snapshot that is going to be used\n",
    "        for final residue placement - i.e. the residue coordinates for placement \n",
    "        are taken from this file.\n",
    "            Takes:\n",
    "              * topology * - a topology file e.g. GRO, PDB, INPCRD, CARD, DMS\n",
    "            Output:\n",
    "              * self.universe * - MDAnalysis Universe\n",
    "        \"\"\"\n",
    "        \n",
    "        try:\n",
    "            if parallel ==True:\n",
    "                md = mdreader.MDreader()\n",
    "                md.arguments = []\n",
    "                md.setargs(s=topology)\n",
    "                self.universe = md.Universe\n",
    "            else:\n",
    "                self.universe = MDAnalysis.Universe(topology)\n",
    "        except Exception:\n",
    "            print \"Check your topology file - it is either missing or misspelled.\"\n",
    "            sys.exit()\n",
    "    def load_trajectory(self,trajectory):\n",
    "        \"\"\"\n",
    "        Loads the trajectory files e.g. XTC, DCD, TRJ together with the topology \n",
    "        file as a MDAnalysis Universe. This will only be run if a trajectory has \n",
    "        been submitted for analysis.\n",
    "            Takes:\n",
    "                * topology * - a topology file e.g. GRO, PDB, INPCRD, CARD, DMS\n",
    "                * trajectory * - a trajectory file e.g. XTC, DCD, TRJ\n",
    "            Output:\n",
    "                * self.universe * - an MDAnalysis Universe consisting from the \n",
    "                topology and trajectory file.\n",
    "        \"\"\"\n",
    "        \n",
    "        try:\n",
    "            self.universe.load_new(trajectory)\n",
    "        except IOError, ValueError:\n",
    "            print \"Check you trajectory file \"+trajectory+\"- it might be missing or misspelled.\"\n",
    "    def load_mol2(self, mol2_file):\n",
    "        \"\"\"Loads a MOL2 file of the ligand (submitted by user) into RDKit environment.\n",
    "            Takes:\n",
    "                * mol2_file * - user submitted MOL2 file of the ligand\n",
    "            Output:\n",
    "                * self.mol2_mda * - the ligand as MDAnalysis Universe,\n",
    "                * self.mol2 * - the ligand in RDKit environment as Mol object.\n",
    "        \"\"\"\n",
    "        \n",
    "        #Check if MOL2 file has been provided correctly and can be loaded in MDAnalysis\n",
    "        try: \n",
    "            self.mol2_mda = MDAnalysis.Universe(mol2_file)\n",
    "        except IOError:\n",
    "            print \"Check your MOL2 file - it might be missing or misspelled.\"\n",
    "            sys.exit()\n",
    "        assert self.mol2_mda.filename.rsplit(\".\")[1] == \"mol2\", \"Wrong filetype for option -mol2: \"+ami.mol2_mda.filename.rsplit(\".\")[1].upper()+\", should be MOL2.\"\n",
    "        try:\n",
    "            self.mol2 = Chem.MolFromMol2File(mol2_file,removeHs=False)\n",
    "            mol = Chem.MolFromSmarts('[$([N;!H0;v3]),$([N;!H0;+1;v4]),$([O,S;H1;+0]),$([n;H1;+0])]')\n",
    "            self.mol2.GetSubstructMatches(mol, uniquify=1)\n",
    "        except AttributeError:\n",
    "            self.mol2 = Chem.MolFromMol2File(mol2_file,removeHs=False,sanitize=False)\n",
    "            self.mol2.UpdatePropertyCache(strict=False)\n",
    "        assert self.mol2 != None, \"The MOL2 file could not be imported in RDKit environment.\"\n",
    "    \n",
    "    def rename_ligand(self,ligand_name):\n",
    "        \"\"\"\n",
    "        Get an atom selection for the selected from both topology and trajectory. Rename the ligand LIG \n",
    "        to help with ligand names that are not standard, e.g. contain numbers.\n",
    "            Takes:\n",
    "                * ligand_name * - MDAnalysis atom selection for the ligand selected by user\n",
    "            Output:\n",
    "                * self.ligand * - renamed ligand with resname LIG,\n",
    "                * self.ligand_noH * - renamed ligand with resname LIG and without H atoms (these are not \n",
    "                present in the final 2D representation and are therefore excluded from some analysis scripts.)\n",
    "        \"\"\"\n",
    "        \n",
    "        self.universe.ligand = self.universe.select_atoms('(segid '+str(ligand_name.segids[0])+' and resid '+str(ligand_name.resids[0])+')')\n",
    "        #Both resname and resnames options need to be reset in order for complete renaming.\n",
    "        self.universe.ligand.resnames = \"LIG\"\n",
    "        self.universe.ligand.resname = \"LIG\"\n",
    "        \n",
    "        #Check if the submitted MOL2 file matches the selected ligand\n",
    "        try:\n",
    "            assert (self.mol2_mda.atoms.names == self.universe.ligand.atoms.names).all(), \"The atomnames from MOL2 and topology files do not match.\"\n",
    "        except ValueError:\n",
    "            print \"The MOL2 file does not match the selected ligand\"\n",
    "            sys.exit()\n",
    "            \n",
    "    def renumber_system(self, offset):\n",
    "        \"\"\"\n",
    "        The residue numbers of the protein can be reformated in case of misallignment with the convention. \n",
    "            Takes:\n",
    "                 * offset * - a number that represents by how many residues the numbering has to be shifted.\n",
    "        \"\"\"\n",
    "        \n",
    "        self.universe.protein = self.universe.select_atoms(\"protein\")\n",
    "        self.universe.protein.resids = self.universe.protein.resids+int(offset)\n",
    "    \n",
    "    def define_residues_for_plotting_topology(self,cutoff = 3.5):\n",
    "        \"\"\"\n",
    "        This function defines the residues for plotting in case only a topology file has been submitted. \n",
    "        In this case the residence time analysis in not necessary and it is enough just to find all \n",
    "        residues within a cutoff distance.\n",
    "            Takes:\n",
    "                * cutoff * - cutoff distance in angstroms that define native contacts\n",
    "            Output:\n",
    "                * \n",
    "        \"\"\"\n",
    "        \n",
    "        self.protein_selection = self.universe.select_atoms('protein and around '+str(cutoff)+' (segid '+str(self.universe.ligand.segids[0])+' and resid '+str(self.universe.ligand.resids[0])+')')\n",
    "        for residues in self.protein_selection.residues:\n",
    "                #for non-analysis plots\n",
    "                self.dict_of_plotted_res[residue]=[1]\n",
    "        assert len(self.dict_of_plotted_res)!=0, \"Nothing to draw for this ligand (residue number: \"+ self.universe.ligand.resids[0] +\" on the chain \"+ self.universe.ligand.segids[0] +\") - check the position of your ligand within the topology file.\"\n",
    "        \n",
    "    def find_the_closest_atoms(self):\n",
    "        \"\"\"\n",
    "        This function defines the ligand atoms that are closest to the residues that will be plotted \n",
    "        in the final graph. \n",
    "        \"\"\"\n",
    "        \n",
    "        # The measurements are made to ligand molecule without hydrogen atoms (ligand_noH) because the \n",
    "        # hydrogen atoms are not plotted in the final graph\n",
    "        self.universe.ligand_noH = self.universe.ligand.select_atoms(\"not name H*\")\n",
    "        ligand_positions = self.universe.ligand_noH.positions\n",
    "        \n",
    "        for residue in self.dict_of_plotted_res:\n",
    "            #residue_selection = self.universe.select_atoms(\"resid \" + str(residue.resid))\n",
    "            residue_positions = residue.positions\n",
    "            dist_array = MDAnalysis.analysis.distances.distance_array(ligand_positions,residue_positions)\n",
    "            min_values_per_atom={}\n",
    "            i=0\n",
    "            for atom in self.universe.ligand_noH:\n",
    "                min_values_per_atom[atom.name]=dist_array[i].min()\n",
    "                i+=1\n",
    "            sorted_min_values = sorted(min_values_per_atom.items(), key=operator.itemgetter(1))     \n",
    "            self.closest_atoms[residue]=[(sorted_min_values[0][0],sorted_min_values[0][1])] \n",
    "    def load_data(self, topology, mol2_file, ligand_name, offset=0):\n",
    "        \"\"\"\n",
    "        This function loads all relevant data - except trajectories since those are dealt with one at a time.\n",
    "        Therefore, this process only needs to be done once, and every time a trajectory needs to be loaded, it \n",
    "        can be loaded seperataly and the Data object can be shared across LINTools processes.\n",
    "        \"\"\"\n",
    "        \n",
    "        self.load_topology(topology)\n",
    "        self.renumber_system(offset)\n",
    "        self.load_mol2(mol2_file)\n",
    "        self.rename_ligand(ligand_name)\n",
    "    def analyse_topology(self, cutoff=3.5):\n",
    "        \"\"\"\n",
    "        In case user wants to analyse only a single topology file, this process will determine the residues \n",
    "        that should be plotted and find the ligand atoms closest to these residues.\n",
    "        \"\"\"\n",
    "        \n",
    "        self.define_residues_for_plotting_topology(cutoff)\n",
    "        self.find_the_closest_atoms()\n",
    "        \n"
   ]
  },
  {
   "cell_type": "code",
   "execution_count": 257,
   "metadata": {
    "collapsed": false
   },
   "outputs": [],
   "source": [
    "from lintools.utils.MDreader import mdreader\n",
    "class Residence_time(object):\n",
    "    __version__ = \"09.2016\"\n",
    "    __authors__ = \"Laura Domicevica\",\"Tom Newport\"\n",
    "    \"\"\"\n",
    "    This module analyses the residence time of each protein residue. If a residue in within\n",
    "    the cutoff distance, it will be added to the list, but only those residues that spend a\n",
    "    significant portion of simulation time in the vicinity of the ligand will be plotted at\n",
    "    the end of the analysis.\n",
    "    \n",
    "    Takes:\n",
    "        * topology data object * - information about system (lintools.Data object)\n",
    "        * trajectory * - list of trajectories\n",
    "        * start_frame_num * - list• of frame numbers for start of analysis (Opt)\n",
    "        * end_frame_num * - list• of frame numbers for end of analysis (Opt) \n",
    "        * skip * - list• of numbers of how many frames should be skipped for this analysis (Opt)\n",
    "    \n",
    "    \n",
    "    • The reason these values are lists is because several trajectories can be submitted for \n",
    "    analysis and different values could be required for each simulation. Therefore, similarly \n",
    "    as with trajectories, start, end and skip variables are submitted as lists with values \n",
    "    corresponding for each trajectory.\n",
    "    \n",
    "    Example: trajectory = [\"1.xtc\",\"2.xtc\"] #Both are 1000 frames, but the user only wants to \n",
    "             analyse second half the the second trajectory\n",
    "             start = [0(for the first traj),500(for the second traj)]   \n",
    "             Other values can be left as default.\n",
    "    \"\"\"\n",
    "    def __init__(self, topology_data_object, trajectory,start_frame_num=None,end_frame_num=None,skip=None):\n",
    "        self.residue_counts = {}\n",
    "        self.frequency ={}\n",
    "        self.frame_count = []\n",
    "        self.topology_data = topology_data_object\n",
    "        self.trajectory = trajectory\n",
    "        self.start_frame_num = [None if start_frame_num ==None else start_frame_num[i] for i in range(len(trajectory))]\n",
    "        self.end_frame_num = [None if end_frame_num==None else end_frame_num[i] for i in range(len(trajectory))]\n",
    "        self.skip = [None if skip==None else skip[i] for i in range(len(trajectory))]\n",
    "    def measure_residence_time(self, cutoff = 3.5):\n",
    "        \"\"\"\n",
    "        This function measures the residence time of all residues within the cutoff distance from\n",
    "        the ligand.\n",
    "        Takes:\n",
    "            * cutoff * - cutoff distance in angstroms\n",
    "        Output:\n",
    "            • self.residue_counts * - dictionary of all residues that have made contact with the\n",
    "            ligand (i.e. have been within the cutoff distance) and the number of frames of the\n",
    "            contact\n",
    "        \"\"\"\n",
    "        self.topology_data.parallel = True\n",
    "        i=0\n",
    "        for traj in self.trajectory:\n",
    "            frame_dict = {}\n",
    "            start = timer()\n",
    "            prog = ProgressBar(\"Residence_time\")\n",
    "\n",
    "            if self.topology_data.parallel == True:\n",
    "                self.topology_data.load_data(self.topology,traj,self.mol2_file,self.ligand,self.offset)\n",
    "                iteration_method = self.topology_data.parallel_reader.iterate()\n",
    "                self.topology_data.parallel_reader.i_skip = self.skip[i]\n",
    "                self.topology_data.parallel_reader.i_endframe = self.end_frame_num[i]\n",
    "                self.topology_data.parallel_reader.i_startframe = self.start_frame_num[i]\n",
    "            else:\n",
    "                self.topology_data.load_trajectory(traj)\n",
    "                iteration_method = self.topology_data.universe.trajectory[self.start_frame_num[i]:self.end_frame_num[i]:self.skip[i]]\n",
    "            for frame in iteration_method:  \n",
    "                selection = self.topology_data.universe.select_atoms(\"protein and around \"+str(cutoff)+' (segid '+str(self.topology_data.universe.ligand.segids[0])+' and resid '+str(self.topology_data.universe.ligand.resids[0])+')')\n",
    "                #selection by residues - they can be accessed later to make sure on which chain they are\n",
    "                #also counter treats each residue as single object - i.e. no problems with multiple chains where\n",
    "                #there are several residues with the same resid and resname - they will be treated seperately\n",
    "                prog.update(frame.frame,self.topology_data.universe.trajectory.n_frames)\n",
    "                residue_list = [residue for residue in selection.residues]\n",
    "                frame_dict[frame.time]=set(residue_list)\n",
    "                \n",
    "            # How many frames each individual simulation has? The simulations can be of differing length    \n",
    "            self.frame_count.append(len(frame_dict))\n",
    "            prog.finish(self.topology_data.universe.trajectory.n_frames)\n",
    "            self.residue_counts[i]=Counter([item for sublist in frame_dict.values() for item in sublist])\n",
    "            end = timer()\n",
    "\n",
    "            sys.stdout.write(\"Residence time: \"+ str(end-start))\n",
    "            #Assert whether there is anything to plot for this simulation\n",
    "            assert len(self.residue_counts[i])!=0, \"Nothing to draw for this ligand (residue number: \"+ self.topology_data.universe.ligand.resids[0] +\" on the chain \"+ self.topology_data.universe.ligand.segids[0] +\") - check the position of your ligand within the trajectory.\"\n",
    "            i+=1\n",
    "\n",
    "    def define_residues_for_plotting_traj(self, analysis_cutoff):\n",
    "        \"\"\"\n",
    "        Since plotting all residues that have made contact with the ligand over a lenghty \n",
    "        simulation is not always feasible or desirable. Therefore, only the residues that \n",
    "        have been in contact with ligand for a long amount of time will be plotted in the\n",
    "        final image. \n",
    "        \n",
    "        The function first determines the fraction of time each residue spends in the \n",
    "        vicinity of the ligand for each trajectory. Once the data is processed, analysis\n",
    "        cutoff decides whether or not these residues are plotted based on the total \n",
    "        frequency this residue has spent in the vicinity of the ligand. The analysis\n",
    "        cutoff is supplied for a single trajectory and is therefore multiplied.\n",
    "        \n",
    "        Takes:\n",
    "            * analysis_cutoff * - a fraction (of time) a residue has to spend in the \n",
    "            vicinity of the ligand for a single traj\n",
    "        Output:\n",
    "            * self.frequency * - frequency per residue per trajectory\n",
    "            * topol_data.dict_of_plotted_res * - the residues that should be plotted in \n",
    "            the final image with the frequency for each trajectory (used for plotting)\n",
    "        \"\"\"\n",
    "        self.residue_counts_fraction = {}\n",
    "        #Calculate the fraction of time a residue spends in each simulation\n",
    "        for traj in self.residue_counts:\n",
    "            self.residue_counts_fraction[traj] = {residue:float(values)/self.frame_count[traj] for residue,values in self.residue_counts[traj].items()}\n",
    "        \n",
    "        for traj in self.residue_counts_fraction:\n",
    "            for residue in self.residue_counts_fraction[traj]:\n",
    "                try:\n",
    "                    self.frequency[residue].append(self.residue_counts_fraction[traj][residue])\n",
    "                except KeyError:\n",
    "                    self.frequency[residue] = []\n",
    "                    self.frequency[residue].append(self.residue_counts_fraction[traj][residue])\n",
    "\n",
    "        self.topology_data.dict_of_plotted_res = {i:self.frequency[i] for i in self.frequency if sum(self.frequency[i])>(int(len(self.trajectory))*analysis_cutoff)}\n",
    "\n"
   ]
  },
  {
   "cell_type": "code",
   "execution_count": 258,
   "metadata": {
    "collapsed": false
   },
   "outputs": [],
   "source": [
    "class HBonds(object):\n",
    "    \"\"\"\n",
    "    This module analyses hydrogen bonds the ligand forms with the protein (version \"09.2016\").\n",
    "    The donor and acceptor atoms in ligand molecule are detected by RDKit, then the bonds are\n",
    "    detected by MDAnalysis hydrogen bonding analysis and counted by time (how many total bonds\n",
    "    per frame) and by type (fraction of time per each hydrogen bond). Information about the \n",
    "    total count of hydrogen bonds over time is provided in a data file (CSV format). Each hydro-\n",
    "    gen bond is then analysed to decide whether to plot it in the final image.\n",
    "    \n",
    "    Takes:\n",
    "        * topology_data_object * - information about the system (lintools.Data object)\n",
    "        * trajectory * - list of trajectories\n",
    "        * start_frame_num * - list• of frame numbers for start of analysis (Opt)\n",
    "        * end_frame_num * - list• of frame numbers for end of analysis (Opt) \n",
    "        * skip * - list• of numbers of how many frames should be skipped for this analysis (Opt)\n",
    "        * distance * - distance between hydrogen bond donor and acceptor atoms in angstroms \n",
    "        * analysis_cutoff * - (user-defined) fraction of time a hydrogen bond has to be \n",
    "            present for to be plotted (default - 0.3). It is multiplied by number of trajectories\n",
    "    \n",
    "    • The reason these values are lists is because several trajectories can be submitted for \n",
    "    analysis and different values could be required for each simulation. Therefore, similarly \n",
    "    as with trajectories, start, end and skip variables are submitted as lists with values \n",
    "    corresponding for each trajectory.\n",
    "    \n",
    "    Example: trajectory = [\"1.xtc\",\"2.xtc\"] #Both are 1000 frames, but the user only wants to \n",
    "             analyse second half the the second trajectory\n",
    "             start = [0(for the first traj),500(for the second traj)]   \n",
    "             Other values can be left as default.\n",
    "    \"\"\"\n",
    "    __version__ = \"09.2016\"\n",
    "    def __init__(self, topology_data_object, trajectory, start_frame_num,end_frame_num,skip,distance,analysis_cutoff):\n",
    "        self.hbonds = None\n",
    "        self.HDonorSmarts = Chem.MolFromSmarts('[$([N;!H0;v3]),$([N;!H0;+1;v4]),$([O,S;H1;+0]),$([n;H1;+0])]')\n",
    "        haccep = \"[$([O,S;H1;v2]-[!$(*=[O,N,P,S])]),$([O,S;H0;v2]),$([O,S;-]),$([N;v3;!$(N-*=!@[O,N,P,S])]),$([nH0,o,s;+0])]\"\n",
    "        self.HAcceptorSmarts = Chem.MolFromSmarts(haccep) \n",
    "        self.donors = []\n",
    "        self.acceptors = []\n",
    "        self.topology_data = topology_data_object\n",
    "        self.trajectory = trajectory\n",
    "        self.hbonds = {}\n",
    "        self.hbonds_by_time = {}\n",
    "        self.hbonds_by_type = {}\n",
    "        self.start_frame_num = [None if start_frame_num ==None else start_frame_num[i] for i in range(len(trajectory))]\n",
    "        self.end_frame_num = [None if end_frame_num==None else end_frame_num[i] for i in range(len(trajectory))]\n",
    "        self.skip = [None if skip ==None else skip[i] for i in range(len(trajectory))   ]\n",
    "        self.find_donors_and_acceptors_in_ligand()\n",
    "        self.analyse_hydrogen_bonds(distance)\n",
    "        self.determine_hbonds_for_drawing(analysis_cutoff)\n",
    "        self.write_output_files()\n",
    "    def find_donors_and_acceptors_in_ligand(self):\n",
    "        \"\"\"\n",
    "        Since MDAnalysis a pre-set list for acceptor and donor atoms for proteins and solvents\n",
    "        from specific forcefields, it is necessary to find donor and acceptor atoms for the \n",
    "        ligand molecule. This function uses RDKit and searches through ligand atoms to find \n",
    "        matches for pre-set list of possible donor and acceptor atoms. The resulting list is then\n",
    "        parsed to MDAnalysis through the donors and acceptors arguments.\n",
    "        \"\"\"\n",
    "        atom_names=[x.name for x in self.topology_data.universe.ligand]\n",
    "        for atom in self.topology_data.mol2.GetSubstructMatches(self.HDonorSmarts, uniquify=1):\n",
    "            self.donors.append(atom_names[atom[0]])\n",
    "        for atom in self.topology_data.mol2.GetSubstructMatches(self.HAcceptorSmarts, uniquify=1):\n",
    "            self.acceptors.append(atom_names[atom[0]])\n",
    "    def analyse_hydrogen_bonds(self,distance):\n",
    "        \"\"\"\n",
    "        MDAnalysis.analysis.hbonds module is used to analyse hydrogen bonds formed between protein\n",
    "        and ligand for each submitted trajectory. The hydrogen bonds are then counted by total value\n",
    "        per frame (count_by_time), as well as obtaining the frequency of each individual hydrogen \n",
    "        bond (count_by_type).\n",
    "        \n",
    "        Takes:\n",
    "            * distance * - distance between hydrogen bond donor and acceptor in angstroms\n",
    "        Output:\n",
    "            * self.hbonds * - array with information about all detected hydrogen bonds \n",
    "            * self.hbonds_by_time * - total hbond number by frame \n",
    "            * self.hbonds_by_type * - frequency of each hydrogen bond\n",
    "        \n",
    "        \"\"\"\n",
    "        \n",
    "        i=0\n",
    "        for traj in self.trajectory:\n",
    "            self.topology_data.load_trajectory(traj)\n",
    "            start = timer()\n",
    "            h = MDAnalysis.analysis.hbonds.HydrogenBondAnalysis(self.topology_data.universe,'(segid '+str(self.topology_data.universe.ligand.segids[0])+' and resid '+str(self.topology_data.universe.ligand.resids[0])+')',\"protein\",distance=distance,acceptors=self.acceptors,donors=self.donors,start=self.start_frame_num[i],stop=self.end_frame_num[i],step=self.skip[i])\n",
    "            h.run()\n",
    "            h.generate_table()  \n",
    "            end = timer()\n",
    "            print \"HBonds: \" + str(end-start)\n",
    "            self.hbonds[i]=h.table\n",
    "            self.hbonds_by_time[i] = h.count_by_time()\n",
    "            self.hbonds_by_type[i] = h.count_by_type()\n",
    "            i+=1\n",
    "    \n",
    "    def determine_hbonds_for_drawing(self, analysis_cutoff):\n",
    "        \"\"\"\n",
    "        Since plotting all hydrogen bonds could lead to a messy plot, a cutoff has to be imple-\n",
    "        mented. In this function the frequency of each hydrogen bond is summated and the total\n",
    "        compared against analysis cutoff - a fraction multiplied by trajectory count. Those \n",
    "        hydrogen bonds that are present for longer than analysis cutoff will be plotted in the \n",
    "        final plot.\n",
    "        \n",
    "        Takes:\n",
    "            * analysis_cutoff * - (user-defined) fraction of time a hydrogen bond has to be \n",
    "            present for to be plotted (default - 0.3). It is multiplied by number of trajectories\n",
    "        Output:\n",
    "            * frequency * - dictionary of hydrogen bond donor-acceptor indices and frequencies \n",
    "            These hydrogen bonds will be plotted in the final image.\n",
    "            \n",
    "        \"\"\"\n",
    "        self.frequency = {}\n",
    "        for traj in self.hbonds_by_type:\n",
    "            for bond in self.hbonds_by_type[traj]:\n",
    "            # frequency[(residue_atom_idx,ligand_atom_idx)]=frequency\n",
    "                if bond[\"donor_resnm\"]!=\"LIG\":\n",
    "                    try:\n",
    "                        self.frequency[(bond[\"donor_idx\"],bond[\"acceptor_idx\"])] += bond[\"frequency\"]\n",
    "                    except KeyError:\n",
    "                        self.frequency[(bond[\"donor_idx\"],bond[\"acceptor_idx\"])] = 0\n",
    "                        self.frequency[(bond[\"donor_idx\"],bond[\"acceptor_idx\"])] += bond[\"frequency\"]\n",
    "                #check whether ligand is donor or acceptor\n",
    "                else:\n",
    "                    try:\n",
    "                        self.frequency[(bond[\"acceptor_idx\"],bond[\"donor_idx\"])] += bond[\"frequency\"]\n",
    "                    except KeyError:\n",
    "                        self.frequency[(bond[\"acceptor_idx\"],bond[\"donor_idx\"])] = 0\n",
    "                        self.frequency[(bond[\"acceptor_idx\"],bond[\"donor_idx\"])] += bond[\"frequency\"]\n",
    "\n",
    "        #Add the frequency counts\n",
    "        self.frequency = {i:self.frequency[i] for i in self.frequency if self.frequency[i]>(int(len(self.trajectory))*analysis_cutoff)}\n",
    "\n",
    "    def write_output_files(self):\n",
    "        \"\"\"\n",
    "        The total hydrogen bond count per frame is provided as CSV output file. \n",
    "        Each trajectory has a seperate file.\n",
    "        \"\"\"\n",
    "        for traj in range(len(self.trajectory)):\n",
    "            with open('hbonds_data_total_'+str(traj)+'.txt', 'wb') as outfile:\n",
    "                hwriter = csv.writer(outfile, delimiter=' ')\n",
    "                for time in self.hbonds_by_time[self.trajectory[traj]]:\n",
    "                    hwriter.writerow([time[0],time[1]])\n"
   ]
  },
  {
   "cell_type": "markdown",
   "metadata": {},
   "source": [
    "# File input and output"
   ]
  },
  {
   "cell_type": "code",
   "execution_count": 151,
   "metadata": {
    "collapsed": false
   },
   "outputs": [
    {
     "ename": "NameError",
     "evalue": "name 'matteo_hbonds' is not defined",
     "output_type": "error",
     "traceback": [
      "\u001b[0;31m---------------------------------------------------------------------------\u001b[0m",
      "\u001b[0;31mNameError\u001b[0m                                 Traceback (most recent call last)",
      "\u001b[0;32m<ipython-input-151-3dd5761a0fa4>\u001b[0m in \u001b[0;36m<module>\u001b[0;34m()\u001b[0m\n\u001b[1;32m      1\u001b[0m \u001b[0;32mimport\u001b[0m \u001b[0mcsv\u001b[0m\u001b[0;34m\u001b[0m\u001b[0m\n\u001b[0;32m----> 2\u001b[0;31m \u001b[0mdata\u001b[0m \u001b[0;34m=\u001b[0m \u001b[0;34m[\u001b[0m\u001b[0mx\u001b[0m \u001b[0;32mfor\u001b[0m \u001b[0mx\u001b[0m \u001b[0;32min\u001b[0m \u001b[0mmatteo_hbonds\u001b[0m\u001b[0;34m.\u001b[0m\u001b[0mhbonds_by_time\u001b[0m\u001b[0;34m[\u001b[0m\u001b[0;34m\"/Users/lauradomicevica/matteo_files/BI2356.xtc\"\u001b[0m\u001b[0;34m]\u001b[0m\u001b[0;34m]\u001b[0m\u001b[0;34m\u001b[0m\u001b[0m\n\u001b[0m\u001b[1;32m      3\u001b[0m \u001b[0;32mprint\u001b[0m \u001b[0mdata\u001b[0m\u001b[0;34m\u001b[0m\u001b[0m\n\u001b[1;32m      4\u001b[0m \u001b[0;34m\u001b[0m\u001b[0m\n\u001b[1;32m      5\u001b[0m \u001b[0;32mwith\u001b[0m \u001b[0mopen\u001b[0m\u001b[0;34m(\u001b[0m\u001b[0;34m'hbonds_data.txt'\u001b[0m\u001b[0;34m,\u001b[0m \u001b[0;34m'wb'\u001b[0m\u001b[0;34m)\u001b[0m \u001b[0;32mas\u001b[0m \u001b[0moutfile\u001b[0m\u001b[0;34m:\u001b[0m\u001b[0;34m\u001b[0m\u001b[0m\n",
      "\u001b[0;31mNameError\u001b[0m: name 'matteo_hbonds' is not defined"
     ]
    }
   ],
   "source": [
    "import csv\n",
    "data = [x for x in matteo_hbonds.hbonds_by_time[\"/Users/lauradomicevica/matteo_files/BI2356.xtc\"]]\n",
    "print data\n",
    "\n",
    "with open('hbonds_data.txt', 'wb') as outfile:\n",
    "    spamwriter = csv.writer(outfile, delimiter=' ')\n",
    "    for x in data:\n",
    "        spamwriter.writerow([x[0],x[1]])"
   ]
  },
  {
   "cell_type": "markdown",
   "metadata": {},
   "source": [
    "The CSV files will be produced for user output - so that they can be plotted by user."
   ]
  },
  {
   "cell_type": "code",
   "execution_count": 152,
   "metadata": {
    "collapsed": false
   },
   "outputs": [
    {
     "ename": "NameError",
     "evalue": "name 'matteo_hbonds' is not defined",
     "output_type": "error",
     "traceback": [
      "\u001b[0;31m---------------------------------------------------------------------------\u001b[0m",
      "\u001b[0;31mNameError\u001b[0m                                 Traceback (most recent call last)",
      "\u001b[0;32m<ipython-input-152-f33812110e1e>\u001b[0m in \u001b[0;36m<module>\u001b[0;34m()\u001b[0m\n\u001b[1;32m      1\u001b[0m \u001b[0;32mimport\u001b[0m \u001b[0mcPickle\u001b[0m \u001b[0;32mas\u001b[0m \u001b[0mpickle\u001b[0m\u001b[0;34m\u001b[0m\u001b[0m\n\u001b[0;32m----> 2\u001b[0;31m \u001b[0mdata\u001b[0m \u001b[0;34m=\u001b[0m \u001b[0mmatteo_hbonds\u001b[0m\u001b[0;34m.\u001b[0m\u001b[0mhbonds_by_time\u001b[0m\u001b[0;34m[\u001b[0m\u001b[0;34m\"/Users/lauradomicevica/matteo_files/BI2356.xtc\"\u001b[0m\u001b[0;34m]\u001b[0m\u001b[0;34m\u001b[0m\u001b[0m\n\u001b[0m\u001b[1;32m      3\u001b[0m \u001b[0mpickle\u001b[0m\u001b[0;34m.\u001b[0m\u001b[0mdump\u001b[0m\u001b[0;34m(\u001b[0m\u001b[0mdata\u001b[0m\u001b[0;34m,\u001b[0m\u001b[0mopen\u001b[0m\u001b[0;34m(\u001b[0m\u001b[0;34m\"hbonds_data.p\"\u001b[0m\u001b[0;34m,\u001b[0m\u001b[0;34m\"wb\"\u001b[0m\u001b[0;34m)\u001b[0m\u001b[0;34m)\u001b[0m\u001b[0;34m\u001b[0m\u001b[0m\n",
      "\u001b[0;31mNameError\u001b[0m: name 'matteo_hbonds' is not defined"
     ]
    }
   ],
   "source": [
    "import cPickle as pickle\n",
    "data = matteo_hbonds.hbonds_by_time[\"/Users/lauradomicevica/matteo_files/BI2356.xtc\"]\n",
    "pickle.dump(data,open(\"hbonds_data.p\",\"wb\"))"
   ]
  },
  {
   "cell_type": "code",
   "execution_count": 153,
   "metadata": {
    "collapsed": false
   },
   "outputs": [
    {
     "ename": "IOError",
     "evalue": "[Errno 2] No such file or directory: 'hbonds_data.p'",
     "output_type": "error",
     "traceback": [
      "\u001b[0;31m---------------------------------------------------------------------------\u001b[0m",
      "\u001b[0;31mIOError\u001b[0m                                   Traceback (most recent call last)",
      "\u001b[0;32m<ipython-input-153-9baec2d9e281>\u001b[0m in \u001b[0;36m<module>\u001b[0;34m()\u001b[0m\n\u001b[0;32m----> 1\u001b[0;31m \u001b[0mdata1\u001b[0m \u001b[0;34m=\u001b[0m \u001b[0mpickle\u001b[0m\u001b[0;34m.\u001b[0m\u001b[0mload\u001b[0m\u001b[0;34m(\u001b[0m\u001b[0mopen\u001b[0m\u001b[0;34m(\u001b[0m\u001b[0;34m\"hbonds_data.p\"\u001b[0m\u001b[0;34m,\u001b[0m\u001b[0;34m\"rb\"\u001b[0m\u001b[0;34m)\u001b[0m\u001b[0;34m)\u001b[0m\u001b[0;34m\u001b[0m\u001b[0m\n\u001b[0m",
      "\u001b[0;31mIOError\u001b[0m: [Errno 2] No such file or directory: 'hbonds_data.p'"
     ]
    }
   ],
   "source": [
    "data1 = pickle.load(open(\"hbonds_data.p\",\"rb\"))"
   ]
  },
  {
   "cell_type": "code",
   "execution_count": 154,
   "metadata": {
    "collapsed": false
   },
   "outputs": [
    {
     "ename": "NameError",
     "evalue": "name 'data1' is not defined",
     "output_type": "error",
     "traceback": [
      "\u001b[0;31m---------------------------------------------------------------------------\u001b[0m",
      "\u001b[0;31mNameError\u001b[0m                                 Traceback (most recent call last)",
      "\u001b[0;32m<ipython-input-154-ab3c103dfee6>\u001b[0m in \u001b[0;36m<module>\u001b[0;34m()\u001b[0m\n\u001b[0;32m----> 1\u001b[0;31m \u001b[0mdata1\u001b[0m\u001b[0;34m\u001b[0m\u001b[0m\n\u001b[0m",
      "\u001b[0;31mNameError\u001b[0m: name 'data1' is not defined"
     ]
    }
   ],
   "source": [
    "data1"
   ]
  },
  {
   "cell_type": "markdown",
   "metadata": {},
   "source": [
    "The cPickle module on the other hand provides serialised files for input for further analysis - e.g. re-analysing the same data"
   ]
  },
  {
   "cell_type": "markdown",
   "metadata": {
    "collapsed": true
   },
   "source": [
    "Another interesting idea could be to use pickle files as configuration files, since they could store all of the analysis and the initial conditions - figuring out how to link everything is going to nontrivial though"
   ]
  },
  {
   "cell_type": "code",
   "execution_count": 239,
   "metadata": {
    "collapsed": false
   },
   "outputs": [],
   "source": [
    "import matplotlib\n",
    "import numpy\n",
    "import matplotlib.pyplot as plt\n",
    "from matplotlib import pylab\n",
    "%matplotlib inline\n",
    "class Plots(object):\n",
    "    \"\"\"\n",
    "    This module plots the residue data.\n",
    "    Types that are available are:\n",
    "    \n",
    "    * amino * (09.2016) - circle with residue name and id (and chain) colored by residue type\n",
    "    * domain * (09.2016) - residue name and id (and chain) circled by differently colored rings,\n",
    "    ring color depends on the chain the residue is on.\n",
    "    * clock * (09.2016) - residue name and id (and chain) circled by one or several differently\n",
    "    colored rings that display the fraction of time this residue has spent in the vicinity of \n",
    "    the ligand.\n",
    "    \n",
    "    Takes:\n",
    "        * topology_data_object * - information about the system (lintools.Data object)\n",
    "        * diagram_type * - string of the selected diagram type (e.g. \"amino\" or \"clocks\")\n",
    "    \"\"\"\n",
    "    __version__ = \"09.2016\"\n",
    "    matplotlib.rcParams['svg.fonttype'] = 'none'\n",
    "    matplotlib.rcParams['font.weight']=900\n",
    "    matplotlib.rcParams['text.usetex'] = False\n",
    "    matplotlib.rcParams['patch.linewidth'] = 0  \n",
    "    def __init__(self, topology_data_object,diagram_type):\n",
    "        self.topology_data = topology_data_object\n",
    "        self.colors_amino_acids = {\"acidic\":\"#D9774B\", \"basic\":\"#889DCC\", \n",
    "                                   \"aromatic\":\"#9FC74A\", \"polar\":\"#D06AC1\",\n",
    "                                   \"hydrophobic\":\"#6AC297\"}\n",
    "        self.amino_acids = {\"ASP\":\"acidic\",\"GLU\":\"acidic\",\"LYS\":\"basic\",\"ARG\":\"basic\",\n",
    "                       \"PHE\":\"aromatic\",\"TYR\":\"aromatic\",\"TRP\":\"aromatic\",\"SER\":\"polar\",\n",
    "                       \"THR\":\"polar\",\"ASN\":\"polar\",\"GLN\":\"polar\",\"CYS\":\"polar\",\n",
    "                       \"HIS\":\"polar\",\"ALA\":\"hydrophobic\",\"VAL\":\"hydrophobic\",\n",
    "                       \"ILE\":\"hydrophobic\",\"LEU\":\"hydrophobic\",\"MET\":\"hydrophobic\",\n",
    "                       \"GLY\":\"hydrophobic\",\"PRO\":\"hydrophobic\"}\n",
    "        if diagram_type == \"amino\":\n",
    "            self.plot_amino_diagrams()\n",
    "        if diagram_type == \"domains\":\n",
    "            self.plot_domain_diagrams()\n",
    "        if diagram_type == \"clocks\":\n",
    "            self.plot_clock_diagrams()\n",
    "    def plot_amino_diagrams(self):\n",
    "        \"\"\"\n",
    "        Plotting of amino diagrams - circles with residue name and id, colored according to the \n",
    "        residue type. If the protein has more than one chain, chain identity is also included in\n",
    "        the plot. The plot is saved as svg file with residue id and chain id as filename for more\n",
    "        certain identification.\n",
    "        \"\"\"\n",
    "        for res in self.topology_data.dict_of_plotted_res:\n",
    "            color = [self.colors_amino_acids[self.amino_acids[res.resname]],'white']\n",
    "            plt.figure(figsize=(2.5,2.5))\n",
    "            ring1,_=plt.pie([1],  radius=1, startangle=90, colors=color, counterclock=False)\n",
    "            plt.axis('equal')\n",
    "            plt.setp(ring1, width=1, edgecolor=self.colors_amino_acids[self.amino_acids[res.resname]])\n",
    "            if len(self.topology_data.universe.protein.segments)<=1:\n",
    "                #Parameters for amino diagrams without segids\n",
    "                plt.text(0,-0.45,res.resname+\"\\n\"+str(res.resid),ha='center',size=36, fontweight=\"bold\")\n",
    "            else:            \n",
    "                #Parameters for amino diagrams with segids\n",
    "                plt.text(0,-0.37,res.resname+\"\\n\"+str(res.resid)+\" \"+res.segids[0],ha='center',size=30, fontweight=\"bold\")\n",
    "            #play with the dpi\n",
    "            pylab.savefig(str(res.resid)+res.segids[0]+\".svg\", dpi=300, transparent=True)\n",
    "            #plt.show()\n",
    "            \n",
    "    def plot_domain_diagrams(self):\n",
    "        \"\"\"\n",
    "        Plotting domain diagrams - a ring around the residue name and id and chain id. The colors are\n",
    "        determined by the chain id and are extracted from matplotlib colormap \"terrain\" (ver. \"09.2016\")\n",
    "        The plot is saved as svg file with residue id and chain id as filename for more certain \n",
    "        identification.\n",
    "        \"\"\"\n",
    "        # width of the circle around plot\n",
    "        width=0.20 \n",
    "        # define color library\n",
    "        cmap = plt.get_cmap('terrain')\n",
    "        colors = [cmap(i) for i in numpy.linspace(0, 0.75, len(self.topology_data.universe.protein.segments))]\n",
    "        domain_colors = {seg:colors[i] for i,seg in enumerate(self.topology_data.universe.protein.segments.segids.tolist())}\n",
    "        for res in self.topology_data.dict_of_plotted_res:\n",
    "            color = [domain_colors[res.segids[0]],'white']\n",
    "            #color = [self.colors_amino_acids[self.amino_acids[res.resname]],'white']\n",
    "            plt.figure(figsize=(2.5,2.5))\n",
    "            ring1,_=plt.pie([1],  radius=1-width, startangle=90, colors=color, counterclock=False)\n",
    "            plt.axis('equal')\n",
    "            plt.setp(ring1, width=width, edgecolor='white')\n",
    "            if len(self.topology_data.universe.protein.segments)<=1:\n",
    "                #Parameters for amino diagrams without segids\n",
    "                plt.text(0,-0.4,res.resname+\"\\n\"+str(res.resid),ha='center',size=36, fontweight=\"bold\")\n",
    "            else:            \n",
    "                #Parameters for amino diagrams with segids\n",
    "                plt.text(0,-0.22,res.resname+\"\\n\"+str(res.resid)+\" \"+res.segids[0],ha='center',size=28, fontweight=\"bold\")\n",
    "            #play with the dpi\n",
    "            pylab.savefig(str(res.resid)+res.segids[0]+\".svg\", dpi=300, transparent=True)\n",
    "            #plt.show()\n",
    "            \n",
    "    def plot_clock_diagrams(self):\n",
    "        \"\"\"\n",
    "        \n",
    "        \"\"\"\n",
    "        cmap = plt.get_cmap('summer')\n",
    "        for res in self.topology_data.dict_of_plotted_res:\n",
    "            colors = [cmap(i) for i in numpy.linspace(0, 1, len(self.topology_data.dict_of_plotted_res[res]))]\n",
    "            traj_colors = {traj:colors[i] for i,traj in enumerate(self.topology_data.dict_of_plotted_res[res])}\n",
    "            plt.figure(figsize=(2.25, 2.25))\n",
    "            ring_number=[sum(1 for x in v if x) for k,v in self.topology_data.dict_of_plotted_res.items()][0]\n",
    "            width=0.3\n",
    "            rings=[]\n",
    "            for ring in range(0,ring_number):\n",
    "                ring,_=plt.pie([self.topology_data.dict_of_plotted_res[res][ring],1-self.topology_data.dict_of_plotted_res[res][ring]],  radius=0.9+width*(ring+1), startangle=90, colors=[colors[ring],\"white\"], counterclock=False)\n",
    "                rings=rings+ring\n",
    "            plt.setp(rings, width=width)\n",
    "            if len(self.topology_data.universe.protein.segments)<=1:\n",
    "            #Settings with domain\n",
    "                plt.text(-0.0,-0.62,res.resname+\"\\n\"+str(res.resid),ha='center',size=32, fontweight='bold')\n",
    "            else:\n",
    "                plt.text(-0.0,-0.5,res.resname+\"\\n\"+str(res.resid)+\" \"+res.segids[0],ha='center',size=28, fontweight='bold')\n",
    "            pylab.savefig(str(res.resid)+res.segids[0]+\".svg\", dpi=200, transparent=True)   \n",
    "            #plt.show()"
   ]
  },
  {
   "cell_type": "code",
   "execution_count": 397,
   "metadata": {
    "collapsed": false
   },
   "outputs": [],
   "source": [
    "topology = \"lintools/testdata/ami/lig.gro\"\n",
    "mol2 = \"lintools/testdata/ami/lig.mol2\"\n",
    "uni = MDAnalysis.Universe(topology)\n",
    "ligand = uni.select_atoms(\"resname UNK\")"
   ]
  },
  {
   "cell_type": "code",
   "execution_count": 398,
   "metadata": {
    "collapsed": false
   },
   "outputs": [],
   "source": [
    "topol_data = Data()\n",
    "topol_data.load_data(topology,mol2,ligand)\n",
    "topol_data.analyse_topology()"
   ]
  },
  {
   "cell_type": "code",
   "execution_count": 399,
   "metadata": {
    "collapsed": false
   },
   "outputs": [],
   "source": [
    "molecule = Molecule(topol_data)\n"
   ]
  },
  {
   "cell_type": "code",
   "execution_count": 400,
   "metadata": {
    "collapsed": false
   },
   "outputs": [],
   "source": [
    "class Molecule(object):\n",
    "    __version__= \"09.2016\"\n",
    "    def __init__(self, topology_data_object):\n",
    "        self.topology_data = topology_data_object\n",
    "        self.ligand_atom_coords_from_diagr={}\n",
    "        self.nearest_points ={}\n",
    "        self.nearest_points_projection = {}\n",
    "        self.nearest_points_coords ={}\n",
    "        self.coefficient ={}\n",
    "        self.ligand_atom_coords = []\n",
    "        self.arc_coords=None\n",
    "        self.load_molecule_in_rdkit_smiles()\n",
    "        self.convex_hull()\n",
    "        self.make_new_projection_values()\n",
    "    def load_molecule_in_rdkit_smiles(self, molSize=(1200,600),kekulize=True):\n",
    "        highlight=[]\n",
    "        colors={}\n",
    "        mol2_in_rdkit = self.topology_data.mol2 #need to reload without hydrogens\n",
    "        try:\n",
    "            mol2_in_rdkit = Chem.RemoveHs(mol2_in_rdkit)\n",
    "            self.smiles = Chem.MolFromSmiles(Chem.MolToSmiles(mol2_in_rdkit))\n",
    "        except ValueError:\n",
    "            mol2_in_rdkit = Chem.RemoveHs(mol2_in_rdkit, sanitize = False)\n",
    "            self.smiles = Chem.MolFromSmiles(Chem.MolToSmiles(mol2_in_rdkit), sanitize=False)\n",
    "        self.atom_identities = {}\n",
    "        i=0\n",
    "        for atom in self.smiles.GetAtoms():\n",
    "            self.atom_identities[mol2_in_rdkit.GetProp('_smilesAtomOutputOrder')[1:].rsplit(\",\")[i]] = atom.GetIdx()\n",
    "            i+=1\n",
    "        mc = Chem.Mol(self.smiles.ToBinary())\n",
    "        if kekulize:\n",
    "            try:\n",
    "                Chem.Kekulize(mc)\n",
    "            except:\n",
    "                mc = Chem.Mol(self.smiles.ToBinary())\n",
    "        if not mc.GetNumConformers():\n",
    "            rdDepictor.Compute2DCoords(mc)\n",
    "        for i in range(mol2_in_rdkit.GetNumAtoms()):\n",
    "            highlight.append(i)\n",
    "            colors[i]=(1,1,1)\n",
    "        drawer = rdMolDraw2D.MolDraw2DSVG(molSize[0],molSize[1])\n",
    "        drawer.DrawMolecule(mc,highlightAtoms=highlight,highlightBonds=[], highlightAtomColors=colors)\n",
    "        drawer.FinishDrawing()\n",
    "        self.svg = drawer.GetDrawingText().replace('svg:','')\n",
    "        filesvg = open(\"molecule.svg\", \"w+\")\n",
    "        filesvg.write(self.svg)\n",
    "    def convex_hull(self):\n",
    "        \"\"\"Draws a convex hull around ligand atoms and expands it, giving space to put diagramms on\"\"\"\n",
    "        #Get coordinates of ligand atoms (needed to draw the convex hull around)\n",
    "        \n",
    "        ligand_atoms = [x.name for x in self.topology_data.universe.ligand_noH.atoms]\n",
    "        with open (\"molecule.svg\", \"r\") as f:\n",
    "            lines = f.readlines()\n",
    "            i=0\n",
    "            for line in lines:\n",
    "                if line.startswith(\"<ellipse\"): \n",
    "                    self.ligand_atom_coords.append([float(line.rsplit(\"'\",10)[1]), float(line.rsplit(\"'\",10)[3])]) \n",
    "                    for atom_id in self.atom_identities:\n",
    "                        if i == self.atom_identities[atom_id]:\n",
    "                            self.ligand_atom_coords_from_diagr[ligand_atoms[int(atom_id)]]=[float(line.rsplit(\"'\",10)[1]), float(line.rsplit(\"'\",10)[3])]\n",
    "                    i+=1\n",
    "                    \n",
    "        self.ligand_atom_coords=np.array(self.ligand_atom_coords)  \n",
    "        self.a = geometry.MultiPoint(self.ligand_atom_coords).convex_hull\n",
    "        self.b = self.a.boundary.buffer(120).convex_hull\n",
    "        self.b_for_all ={}\n",
    "        self.b_lenght = self.b.boundary.length\n",
    "        for residue in self.topology_data.closest_atoms:\n",
    "            mean_distance =np.array([x[1] for x in self.topology_data.closest_atoms[residue]]).mean()\n",
    "            b = self.a.boundary.parallel_offset(mean_distance*50+50,\"left\",join_style=2).convex_hull\n",
    "            projection =[]\n",
    "            projection_init = []\n",
    "            for atom in self.topology_data.closest_atoms[residue]:\n",
    "                point =geometry.Point((self.ligand_atom_coords_from_diagr[atom[0]][0],self.ligand_atom_coords_from_diagr[atom[0]][1]))\n",
    "                projection.append(abs(b.boundary.project(point) % b.boundary.length))\n",
    "                projection_init.append(abs(self.b.boundary.project(point) % self.b.boundary.length))\n",
    "            # Check whether projections are not crossing the boundary point (i.e. end of circle) - is one number in the projection very different from any other?\n",
    "            for (index1,number1), (index2,number2) in combinations(enumerate(projection),2):\n",
    "                if abs(number1-number2)>b.boundary.length/2:\n",
    "                    proj =[]\n",
    "                    for atom in projection:\n",
    "                        if atom == max([number1,number2]):\n",
    "                            proj.append(atom-b.boundary.length)\n",
    "                        else:\n",
    "                            proj.append(atom)\n",
    "                    projection = proj\n",
    "            for (index1,number1), (index2,number2) in combinations(enumerate(projection_init),2):\n",
    "                if abs(number1-number2)>self.b.boundary.length/2:\n",
    "                    proj =[]\n",
    "                    for atom in projection_init:\n",
    "                        if atom == max([number1,number2]):\n",
    "                            proj.append(atom-self.b.boundary.length)\n",
    "                        else:\n",
    "                            proj.append(atom)\n",
    "                    projection_init = proj\n",
    "            self.nearest_points_projection[residue] = np.array(projection).mean()\n",
    "            self.b_for_all[residue] = np.array(projection_init).mean()\n",
    "            self.nearest_points[residue] = b.boundary.interpolate(self.nearest_points_projection[residue] % b.boundary.length)\n",
    "            self.nearest_points_coords[residue]=self.nearest_points[residue].x,self.nearest_points[residue].y\n",
    "\n",
    "\n",
    "   \n",
    "\n",
    "    def calc_2d_forces(self,x1,y1,x2,y2,width):\n",
    "        \"\"\"Calculate overlap in 2D space\"\"\"\n",
    "        #calculate a\n",
    "        if x1>x2:\n",
    "            a = x1-x2\n",
    "        else:\n",
    "            a = x2-x1\n",
    "\n",
    "        a_sq=a*a\n",
    "        #calculate b\n",
    "        if y1>y2:\n",
    "            b = y1-y2\n",
    "        else: \n",
    "            b = y2-y1\n",
    "\n",
    "        b_sq=b*b\n",
    "        \n",
    "        #calculate c\n",
    "        from math import sqrt\n",
    "        c_sq = a_sq+b_sq\n",
    "\n",
    "        c = sqrt(c_sq)\n",
    "\n",
    "        if c > width:\n",
    "            return 0,0\n",
    "        else:\n",
    "            overlap = width-c\n",
    "        return -overlap/2, overlap/2\n",
    "\n",
    "    \n",
    "    def do_step(self, values, xy_values,coeff, width):\n",
    "        \"\"\"Calculates forces between two diagrams and pushes them apart by tenth of width\"\"\"\n",
    "        forces = {k:[] for k,i in enumerate(xy_values)}\n",
    "        for (index1, value1), (index2,value2) in combinations(enumerate(xy_values),2):\n",
    "            f = self.calc_2d_forces(value1[0],value1[1],value2[0],value2[1],width)\n",
    "            if coeff[index1] < coeff[index2]:\n",
    "                if self.b_lenght-coeff[index2]<self.b_lenght/10: #a quick and dirty solution, but works\n",
    "                    forces[index1].append(f[1]) # push to left (smaller projection value) \n",
    "                    forces[index2].append(f[0])\n",
    "                else:\n",
    "                    #all is normal\n",
    "                    forces[index1].append(f[0]) # push to left (smaller projection value) \n",
    "                    forces[index2].append(f[1])\n",
    "            else:\n",
    "                if self.b_lenght-coeff[index1]<self.b_lenght/10: #a quick and dirty solution, but works\n",
    "                    forces[index1].append(f[0]) # push to left (smaller projection value) \n",
    "                    forces[index2].append(f[1])\n",
    "                else:\n",
    "                #if all is normal\n",
    "                    forces[index1].append(f[1]) # push to left (smaller projection value) \n",
    "                    forces[index2].append(f[0])\n",
    "        forces = {k:sum(v) for k,v in forces.items()}\n",
    "        \n",
    "        energy = sum([abs(x) for x in forces.values()])\n",
    "\n",
    "        return [(forces[k]/10+v) for k, v in enumerate(values)], energy\n",
    "  \n",
    "    \n",
    "\n",
    "    def make_new_projection_values(self):\n",
    "        \"\"\"Run do_step function until the diagramms have diverged from each other\"\"\"\n",
    "        values = [v for v in self.nearest_points_projection.values()]\n",
    "        xy_values = [v for v in self.nearest_points_coords.values()]\n",
    "        coeff_value = [v for v in self.b_for_all.values()]\n",
    "        energy = 100\n",
    "        while energy > 0.2:\n",
    "            values, energy = self.do_step(values,xy_values,coeff_value, width=160)\n",
    "            i=0\n",
    "            xy_values =[]\n",
    "            for residue in  self.nearest_points_coords:\n",
    "                b = self.a.boundary.parallel_offset(self.topology_data.closest_atoms[residue][0][1]*50+50,\"left\",join_style=2).convex_hull\n",
    "                self.nearest_points_projection[residue] = values[i]\n",
    "                self.nearest_points[residue] = b.boundary.interpolate(self.nearest_points_projection[residue] % b.boundary.length)\n",
    "                self.nearest_points_coords[residue] = self.nearest_points[residue].x, self.nearest_points[residue].y\n",
    "                xy_values.append(self.nearest_points_coords[residue])\n",
    "                i+=1\n",
    "            values = [v for v in self.nearest_points_projection.values()]\n",
    "        \n",
    "        #Calculate the borders of the final image\n",
    "        max_x = max(v[0] for k,v in self.nearest_points_coords.items())\n",
    "        min_x = min(v[0] for k,v in self.nearest_points_coords.items())\n",
    "        min_y = min(v[1] for k,v in self.nearest_points_coords.items())\n",
    "        max_y = max(v[1] for k,v in self.nearest_points_coords.items())\n",
    "        if min_x<0:\n",
    "            self.x_dim = (max_x-min_x)+600 #600 acts as buffer\n",
    "        else:\n",
    "            self.x_dim = max_x+600\n",
    "        if min_y<0:\n",
    "            self.y_dim = (max_y-min_y)+300 #300 acts as buffer\n",
    "        else:\n",
    "            self.y_dim = max_y+300\n",
    "    "
   ]
  },
  {
   "cell_type": "code",
   "execution_count": 456,
   "metadata": {
    "collapsed": false
   },
   "outputs": [
    {
     "data": {
      "image/svg+xml": [
       "<svg xmlns=\"http://www.w3.org/2000/svg\" xmlns:xlink=\"http://www.w3.org/1999/xlink\" width=\"300\" height=\"300\" viewBox=\"71.66616 -101.86314 1056.66768 803.72598\" preserveAspectRatio=\"xMinYMin meet\"><g transform=\"matrix(1,0,0,-1,0,599.9997)\"><polyline fill=\"none\" stroke=\"#66cc99\" stroke-width=\"7.0444512\" points=\"351.359,327.573 350.9256254,318.75145737 349.629675236,310.014871019 347.483630216,301.447379047 344.508157926,293.131491087 340.731913791,285.147293686 336.191265107,277.571679028 330.929940803,270.477604425 324.998610307,263.933389693 318.454395575,258.002059197 311.360320972,252.740734893 303.784706314,248.200086209 295.800508913,244.423842074 287.484620953,241.448369784 278.917128981,239.302324764 270.18054263,238.0063746 261.359,237.573 252.53745737,238.0063746 243.800871019,239.302324764 235.233379047,241.448369784 226.917491087,244.423842074 218.933293686,248.200086209 211.357679028,252.740734893 204.263604425,258.002059197 197.719389693,263.933389693 191.788059197,270.477604425 186.526734893,277.571679028 181.986086209,285.147293686 178.209842074,293.131491087 175.234369784,301.447379047 173.088324764,310.014871019 171.7923746,318.75145737 171.359,327.573 171.7923746,336.39454263 173.088324764,345.131128981 175.234369784,353.698620953 178.209842074,362.014508913 181.986086209,369.998706314 186.526734893,377.574320972 191.788059197,384.668395575 197.719389693,391.212610307 204.263604425,397.143940803 208.051181564,399.952999457 207.973086209,400.083293686 204.196842074,408.067491087 201.221369784,416.383379047 199.075324764,424.950871019 197.937311523,432.62273312 191.98045737,432.9153746 183.243871019,434.211324764 174.676379047,436.357369784 166.360491087,439.332842074 158.376293686,443.109086209 150.800679028,447.649734893 143.706604425,452.911059197 137.162389693,458.842389693 131.231059197,465.386604425 125.969734893,472.480679028 121.429086209,480.056293686 117.652842074,488.040491087 114.677369784,496.356379047 112.531324764,504.923871019 111.2353746,513.66045737 110.802,522.482 111.2353746,531.30354263 112.531324764,540.040128981 114.677369784,548.607620953 117.652842074,556.923508913 121.429086209,564.907706314 125.969734893,572.483320972 131.231059197,579.577395575 137.162389693,586.121610307 143.706604425,592.052940803 150.800679028,597.314265107 158.376293686,601.854913791 166.360491087,605.631157926 174.676379047,608.606630216 183.243871019,610.752675236 191.98045737,612.0486254 200.802,612.482 209.62354263,612.0486254 218.360128981,610.752675236 226.927620953,608.606630216 235.243508913,605.631157926 243.227706314,601.854913791 250.803320972,597.314265107 257.897395575,592.052940803 264.441610307,586.121610307 270.372940803,579.577395575 275.634265107,572.483320972 280.174913791,564.907706314 283.951157926,556.923508913 286.926630216,548.607620953 289.072675236,540.040128981 290.210688477,532.36826688 296.16754263,532.0756254 304.904128981,530.779675236 313.471620953,528.633630216 321.787508913,525.658157926 323.477642035,524.858784493 325.044734893,527.473320972 330.306059197,534.567395575 336.237389693,541.111610307 342.781604425,547.042940803 349.875679028,552.304265107 357.451293686,556.844913791 365.435491087,560.621157926 373.751379047,563.596630216 382.318871019,565.742675236 391.05545737,567.0386254 399.877,567.472 408.69854263,567.0386254 417.435128981,565.742675236 426.002620953,563.596630216 434.318508913,560.621157926 442.302706314,556.844913791 449.878320972,552.304265107 456.972395575,547.042940803 463.516610307,541.111610307 469.447940803,534.567395575 474.709265107,527.473320972 479.249913791,519.897706314 483.026157926,511.913508913 486.001630216,503.597620953 488.147675236,495.030128981 489.285688477,487.35826688 495.24254263,487.0656254 503.979128981,485.769675236 512.546620953,483.623630216 520.862508913,480.648157926 522.551862906,479.849152993 524.118734893,482.463320972 529.380059197,489.557395575 535.311389693,496.101610307 541.855604425,502.032940803 548.949679028,507.294265107 556.525293686,511.834913791 564.509491087,515.611157926 572.825379047,518.586630216 581.392871019,520.732675236 590.12945737,522.0286254 598.951,522.462 607.77254263,522.0286254 616.509128981,520.732675236 625.076620953,518.586630216 633.392508913,515.611157926 641.376706314,511.834913791 648.952320972,507.294265107 656.046395575,502.032940803 662.590610307,496.101610307 668.521940803,489.557395575 673.783265107,482.463320972 678.323913791,474.887706314 682.100157926,466.903508913 685.075630216,458.587620953 687.221675236,450.020128981 688.359681137,442.348316367 694.31754263,442.0556254 703.054128981,440.759675236 711.621620953,438.613630216 715.303504038,437.296231383 715.726086209,438.189706314 720.266734893,445.765320972 725.528059197,452.859395575 727.059471558,454.549048738 725.287059197,456.504604425 720.025734893,463.598679028 715.485086209,471.174293686 711.708842074,479.158491087 708.733369784,487.474379047 706.587324764,496.041871019 705.2913746,504.77845737 704.858,513.6 705.2913746,522.42154263 706.587324764,531.158128981 708.733369784,539.725620953 711.708842074,548.041508913 715.485086209,556.025706314 720.025734893,563.601320972 725.287059197,570.695395575 731.218389693,577.239610307 737.762604425,583.170940803 744.856679028,588.432265107 752.432293686,592.972913791 760.416491087,596.749157926 768.732379047,599.724630216 777.299871019,601.870675236 786.03645737,603.1666254 794.858,603.6 803.67954263,603.1666254 811.777160427,601.965457268 813.638842074,607.168508913 817.415086209,615.152706314 821.955734893,622.728320972 827.217059197,629.822395575 833.148389693,636.366610307 839.692604425,642.297940803 846.786679028,647.559265107 854.362293686,652.099913791 862.346491087,655.876157926 870.662379047,658.851630216 879.229871019,660.997675236 887.96645737,662.2936254 896.788,662.727 905.60954263,662.2936254 914.346128981,660.997675236 922.913620953,658.851630216 931.229508913,655.876157926 939.213706314,652.099913791 946.789320972,647.559265107 953.883395575,642.297940803 960.427610307,636.366610307 966.358940803,629.822395575 971.620265107,622.728320972 976.160913791,615.152706314 979.937157926,607.168508913 981.669250689,602.327633936 990.13645737,603.5836254 998.958,604.017 1007.77954263,603.5836254 1016.51612898,602.287675236 1025.08362095,600.141630216 1033.39950891,597.166157926 1041.38370631,593.389913791 1048.95932097,588.849265107 1056.05339557,583.587940803 1062.59761031,577.656610307 1068.5289408,571.112395575 1073.79026511,564.018320972 1078.33091379,556.442706314 1082.10715793,548.458508913 1085.08263022,540.142620953 1087.22867524,531.575128981 1088.5246254,522.83854263 1088.958,514.017 1088.958,514.017 1088.5246254,505.19545737 1087.22867524,496.458871019 1085.08263022,487.891379047 1082.10715793,479.575491087 1078.33091379,471.591293686 1073.79026511,464.015679028 1068.5289408,456.921604425 1066.99657527,455.230899597 1068.7689408,453.275395575 1074.03026511,446.181320972 1078.57091379,438.605706314 1082.34715793,430.621508913 1085.32263022,422.305620953 1087.46867524,413.738128981 1088.7646254,405.00154263 1089.198,396.18 1089.198,396.18 1088.7646254,387.35845737 1087.46867524,378.621871019 1085.32263022,370.054379047 1082.34715793,361.738491087 1078.57091379,353.754293686 1074.03026511,346.178679028 1068.7689408,339.084604425 1062.83761031,332.540389693 1056.29339557,326.609059197 1049.19932097,321.347734893 1041.62370631,316.807086209 1033.63950891,313.030842074 1025.32362095,310.055369784 1016.75612898,307.909324764 1008.01954263,306.6133746 999.198,306.18 990.37645737,306.6133746 982.2794494,307.814452273 980.418157926,302.612491087 976.641913791,294.628293686 973.322894652,289.090844791 978.709610307,284.208610307 984.640940803,277.664395575 989.902265107,270.570320972 994.442913791,262.994706314 998.219157926,255.010508913 1001.19463022,246.694620953 1003.34067524,238.127128981 1004.6366254,229.39054263 1005.07,220.569 1005.07,220.569 1004.6366254,211.74745737 1003.34067524,203.010871019 1001.19463022,194.443379047 998.219157926,186.127491087 994.442913791,178.143293686 989.902265107,170.567679028 984.640940803,163.473604425 978.709610307,156.929389693 972.165395575,150.998059197 965.071320972,145.736734893 957.495706314,141.196086209 949.511508913,137.419842074 941.195620953,134.444369784 932.628128981,132.298324764 924.956316367,131.160318863 924.6636254,125.20245737 923.367675236,116.465871019 921.221630216,107.898379047 918.246157926,99.5824910871 914.469913791,91.5982936857 909.929265107,84.0226790282 904.667940803,76.9286044253 898.736610307,70.3843896932 892.192395575,64.4530591974 885.098320972,59.1917348928 877.522706314,54.6510862086 869.538508913,50.874842074 861.222620953,47.8993697841 852.655128981,45.7533247637 843.91854263,44.4573745995 835.097,44.024 826.27545737,44.4573745995 817.538871019,45.7533247637 808.971379047,47.8993697841 800.655491087,50.874842074 792.671293686,54.6510862086 785.095679028,59.1917348928 778.001604425,64.4530591974 771.457389693,70.3843896932 771.319334827,70.5367097654 767.572320972,67.7577348928 759.996706314,63.2170862086 753.376382364,60.0859061753 754.931675236,53.8768289815 756.2276254,45.1402426297 756.661,36.3187 756.661,36.3187 756.2276254,27.4971573703 754.931675236,18.7605710185 752.785630216,10.1930790471 749.810157926,1.87719108714 746.033913791,-6.10700631434 741.493265107,-13.6826209718 736.231940803,-20.7766955747 730.300610307,-27.3209103068 723.756395575,-33.2522408026 716.662320972,-38.5135651072 709.086706314,-43.0542137914 701.102508913,-46.830457926 692.786620953,-49.8059302159 684.219128981,-51.9519752363 675.48254263,-53.2479254005 666.661,-53.6813 657.83945737,-53.2479254005 649.102871019,-51.9519752363 640.535379047,-49.8059302159 632.219491087,-46.830457926 624.235293686,-43.0542137914 616.659679028,-38.5135651072 613.194359138,-35.9435087178 612.810610307,-36.3669103068 606.266395575,-42.2982408026 599.172320972,-47.5595651072 591.596706314,-52.1002137914 583.612508913,-55.876457926 575.296620953,-58.8519302159 566.729128981,-60.9979752363 557.99254263,-62.2939254005 549.171,-62.7273 540.34945737,-62.2939254005 531.612871019,-60.9979752363 523.045379047,-58.8519302159 514.729491087,-55.876457926 506.745293686,-52.1002137914 499.169679028,-47.5595651072 492.075604425,-42.2982408026 485.531389693,-36.3669103068 479.600059197,-29.8226955747 474.338734893,-22.7286209718 469.798086209,-15.1530063143 466.021842074,-7.16880891286 463.046369784,1.1470790471 460.900324764,9.71457101855 459.6043746,18.4511573703 459.171,27.2727 459.6043746,36.0942426297 459.818099375,37.5350580346 456.467379047,38.3743697841 448.151491087,41.349842074 440.167293686,45.1260862086 432.591679028,49.6667348928 425.497604425,54.9280591974 418.953389693,60.8593896932 413.022059197,67.4036044253 407.760734893,74.4976790282 403.220086209,82.0732936857 399.443842074,90.0574910871 396.468369784,98.3733790471 394.322324764,106.940871019 393.0263746,115.67745737 392.593,124.499 393.0263746,133.32054263 394.322324764,142.057128981 396.468369784,150.624620953 399.443842074,158.940508913 403.220086209,166.924706314 407.760734893,174.500320972 413.022059197,181.594395575 418.953389693,188.138610307 425.497604425,194.069940803 432.591679028,199.331265107 440.167293686,203.871913791 446.787550449,207.003062048 445.232324764,213.211871019 443.9363746,221.94845737 443.503,230.77 443.9363746,239.59154263 445.232324764,248.328128981 447.378369784,256.895620953 450.353842074,265.211508913 454.130086209,273.195706314 458.670734893,280.771320972 463.932059197,287.865395575 469.863389693,294.409610307 476.407604425,300.340940803 483.501679028,305.602265107 486.688080814,307.512120839 486.421,307.499 477.59945737,307.9323746 468.862871019,309.228324764 460.295379047,311.374369784 451.979491087,314.349842074 443.995293686,318.126086209 436.419679028,322.666734893 429.325604425,327.928059197 422.781389693,333.859389693 416.850059197,340.403604425 411.588734893,347.497679028 407.048086209,355.073293686 403.271842074,363.057491087 400.296369784,371.373379047 398.150324764,379.940871019 397.012311523,387.61273312 391.05545737,387.9053746 382.318871019,389.201324764 373.751379047,391.347369784 365.435491087,394.322842074 363.745357965,395.122215507 362.178265107,392.507679028 356.916940803,385.413604425 350.985610307,378.869389693 344.441395575,372.938059197 340.653818436,370.129000543 340.731913791,369.998706314 344.508157926,362.014508913 347.483630216,353.698620953 349.629675236,345.131128981 350.9256254,336.39454263 351.359,327.573 351.359,327.573\" opacity=\"0.8\" /></g></svg>"
      ],
      "text/plain": [
       "<shapely.geometry.polygon.LinearRing at 0x12915a110>"
      ]
     },
     "execution_count": 456,
     "metadata": {},
     "output_type": "execute_result"
    }
   ],
   "source": [
    "from shapely import geometry\n",
    "polygons = [geometry.Point(point).buffer(90) for point in molecule.ligand_atom_coords]\n",
    "from shapely.ops import cascaded_union\n",
    "a =cascaded_union(polygons)\n",
    "a.exterior\n"
   ]
  },
  {
   "cell_type": "code",
   "execution_count": 452,
   "metadata": {
    "collapsed": false
   },
   "outputs": [],
   "source": [
    "#Find which coordinates belong to which atom\n",
    "shared_coords_x={}\n",
    "shared_coords_y={}\n",
    "i=0\n",
    "for atom in molecule.ligand_atom_coords:\n",
    "    point_coords=geometry.Point(atom).buffer(90).boundary.coords\n",
    "    #get x atoms\n",
    "    x_coords = [x for x in point_coords.xy[0]]\n",
    "    y_coords = [x for x in point_coords.xy[1]]\n",
    "    shared_coords_x[i]=[x for x in a.exterior.coords.xy[0] if x in x_coords]\n",
    "    shared_coords_y[i]=[x for x in a.exterior.coords.xy[1] if x in y_coords]\n",
    "    i+=1\n",
    "sasa= {'C': 0.3199013684477125,\n",
    "  'C1': 0.30504907738594783,\n",
    "  'C10': 0.21946021843524205,\n",
    "  'C11': 0.047964052252826239,\n",
    "  'C12': 0.015952992674318097,\n",
    "  'C13': 0.028757416199715363,\n",
    "  'C14': 0.0097085092261078813,\n",
    "  'C15': 0.26327933654898689,\n",
    "  'C16': 0.23042634200482143,\n",
    "  'C17': 0.17637866203274047,\n",
    "  'C18': 0.51081010557356332,\n",
    "  'C19': 0.49663971293540227,\n",
    "  'C2': 0.26884100692612783,\n",
    "  'C3': 0.25535358630475546,\n",
    "  'C4': 0.29864697371210369,\n",
    "  'C5': 0.32299723369734629,\n",
    "  'C6': 0.1729119150411515,\n",
    "  'C7': 0.18996716255233401,\n",
    "  'C8': 0.2293257081792468,\n",
    "  'C9': 0.0026763061379467346,\n",
    "  'N': 0.026512370313563832}"
   ]
  },
  {
   "cell_type": "code",
   "execution_count": 489,
   "metadata": {
    "collapsed": false
   },
   "outputs": [
    {
     "name": "stdout",
     "output_type": "stream",
     "text": [
      "[45, 45]\n",
      "[4, 4, 4, 4, 3, 3]\n",
      "[42, 42, 6, 6]\n",
      "[25, 25, 3, 3]\n",
      "[4, 4, 14, 14]\n",
      "[24, 24]\n",
      "[2, 2]\n",
      "[2, 2]\n",
      "[24, 24]\n",
      "[24, 24]\n",
      "[25, 25]\n",
      "[25, 25]\n",
      "[1, 1]\n",
      "[23, 23]\n",
      "[23, 23]\n",
      "[1, 1]\n",
      "[25, 25]\n",
      "[25, 25]\n",
      "[24, 24]\n",
      "[12, 12]\n"
     ]
    },
    {
     "data": {
      "image/png": "[encoded data removed]",
      "text/plain": [
       "<matplotlib.figure.Figure at 0x10ed86590>"
      ]
     },
     "metadata": {},
     "output_type": "display_data"
    }
   ],
   "source": [
    "color = [str(i) for i in sasa.values()]\n",
    "\n",
    "\n",
    "i=0\n",
    "for atom in range(len(molecule.ligand_atom_coords)):\n",
    "    plt.get_cmap(\"summer\")\n",
    "    xs = shared_coords_x[atom]\n",
    "    ys= shared_coords_y[atom]\n",
    "    \n",
    "    if len(xs) == 0:\n",
    "        continue\n",
    "        \n",
    "    segs = [([xs[0]],[ys[0]])]\n",
    "    \n",
    "    for idx1, idx2 in zip(xrange(0, len(xs)-2), xrange(1, len(xs)-1)):\n",
    "        dx = xs[idx1] - xs[idx2]\n",
    "        dy = ys[idx1] - ys[idx2]\n",
    "        dist = (dx ** 2 + dy ** 2) ** 0.5\n",
    "        if dist > 40:\n",
    "            segs.append(([],[]))\n",
    "        segs[-1][0].append(xs[idx2])\n",
    "        segs[-1][1].append(ys[idx2])\n",
    "    for seg_x, seg_y in segs:\n",
    "        plt.plot(seg_x,seg_y,linewidth=5,color=color[i])\n",
    "        plt.plot(molecule.ligand_atom_coords[:,0],molecule.ligand_atom_coords[:,1],\"o\")\n",
    "    i+=1\n",
    "plt.axis(\"off\")\n",
    "plt.savefig(\"test_cloud.svg\",dpi=300,transparent=True)\n"
   ]
  },
  {
   "cell_type": "code",
   "execution_count": null,
   "metadata": {
    "collapsed": true
   },
   "outputs": [],
   "source": [
    "import rdkit\n",
    "from rdkit import Chem\n",
    "from rdkit.Chem import AllChem\n",
    "from rdkit.Chem import Draw\n",
    "from rdkit.Chem.Draw import rdMolDraw2D\n",
    "from rdkit.Chem import rdDepictor\n",
    "from shapely import geometry\n",
    "import numpy as np\n",
    "from itertools import combinations\n",
    "import colorsys\n",
    "import operator\n",
    "from IPython.display import SVG"
   ]
  },
  {
   "cell_type": "code",
   "execution_count": 245,
   "metadata": {
    "collapsed": false
   },
   "outputs": [
    {
     "ename": "NameError",
     "evalue": "name 'molecule' is not defined",
     "output_type": "error",
     "traceback": [
      "\u001b[0;31m---------------------------------------------------------------------------\u001b[0m",
      "\u001b[0;31mNameError\u001b[0m                                 Traceback (most recent call last)",
      "\u001b[0;32m<ipython-input-245-e334430b7ca6>\u001b[0m in \u001b[0;36m<module>\u001b[0;34m()\u001b[0m\n\u001b[0;32m----> 1\u001b[0;31m \u001b[0mSVG\u001b[0m\u001b[0;34m(\u001b[0m\u001b[0mmolecule\u001b[0m\u001b[0;34m.\u001b[0m\u001b[0msvg\u001b[0m\u001b[0;34m)\u001b[0m\u001b[0;34m\u001b[0m\u001b[0m\n\u001b[0m",
      "\u001b[0;31mNameError\u001b[0m: name 'molecule' is not defined"
     ]
    }
   ],
   "source": [
    "SVG(molecule.svg)"
   ]
  },
  {
   "cell_type": "code",
   "execution_count": 241,
   "metadata": {
    "collapsed": true
   },
   "outputs": [],
   "source": [
    "import fileinput\n",
    "class Figure(object):\n",
    "    __version__=\"09.2016\"\n",
    "    def __init__(self,molecule_object,topology_data_object,hydrogen_bonds_object):\n",
    "        self.molecule = molecule_object\n",
    "        self.topology_data = topology_data_object\n",
    "        self.hbonds = hydrogen_bonds_object\n",
    "        self.draw_plots = None\n",
    "    def change_lines_in_svg(self,filename, string1,string2):\n",
    "        for i,line in enumerate(fileinput.input(filename, inplace=1)):\n",
    "            sys.stdout.write(line.replace(str(string1),str(string2)))\n",
    "    def manage_the_plots(self):\n",
    "        diagram = \"\"\n",
    "        for residue in self.molecule.nearest_points_coords:\n",
    "            for i, line in enumerate(fileinput.input(str(residue.resid)+residue.segids[0]+\".svg\", inplace=1)):\n",
    "                    if i <= 8:\n",
    "                        continue\n",
    "                    else:\n",
    "                        sys.stdout.write(line.replace (\"</svg>\",\"</g>\"))\n",
    "            input1 = \"</defs>\"\n",
    "            output1 = \"<g transform='translate(\"+str(int(self.molecule.nearest_points_coords[residue][0]+(self.molecule.x_dim-900)/2)-90)+\",\"+str(int(self.molecule.nearest_points_coords[residue][1]+(self.molecule.y_dim-450)/2)-90)+\")'>\"\n",
    "            self.change_lines_in_svg(str(residue.resid)+residue.segids[0]+'.svg', input1, output1)\n",
    "            input2 = \"font-style:normal;\"\n",
    "            output2 = \"font-style:normal;font-weight:bold;\"\n",
    "            self.change_lines_in_svg(str(residue.resid)+residue.segids[0]+'.svg', input2, output2)\n",
    "            with open(str(residue.resid)+residue.segids[0]+\".svg\", \"r\") as f:\n",
    "                lines = f.readlines()\n",
    "                diagram = diagram +\"\".join(map(str,lines))\n",
    "                f.close()\n",
    "        self.draw_plots = diagram\n",
    "    def add_bigger_box(self):\n",
    "        start1 = \"width='900px' height='450px' >\"\n",
    "        start2 = \"<rect style='opacity:1.0;fill:#FFFFFF;stroke:none' width='900' height='450' x='0' y='0'> </rect>\"\n",
    "        bigger_box =\"width='\"+str(self.molecule.x_dim)+\"px' height='\"+str(self.molecule.y_dim)+\"px' > \"\n",
    "        big_box2= \"<rect style='opacity:1.0;fill:white;stroke:none' width='\"+str(self.molecule.x_dim)+\"px' height='\"+str(self.molecule.y_dim)+\"px' x='0' y='0'> </rect> <g transform='translate(\"+str((self.molecule.x_dim-900)/2)+\",\"+str((self.molecule.y_dim-450)/2)+\")'>'<rect style='opacity:1.0;fill:#ffffff;stroke:none' width='900' height='450' x='0' y='0' /> \"\n",
    "        self.end_symbol = \"</svg>\"\n",
    "        no_end_symbol = \"</g>\"\n",
    "        self.change_lines_in_svg(\"molecule.svg\", start1, bigger_box)\n",
    "        self.change_lines_in_svg(\"molecule.svg\", start2, big_box2)\n",
    "        self.change_lines_in_svg(\"molecule.svg\", self.end_symbol, no_end_symbol)\n",
    "        with open(\"molecule.svg\",\"r\") as f:\n",
    "            lines = f.readlines()\n",
    "            self.filestart = \" \".join(map(str,lines[0:8]))\n",
    "            self.draw_molecule =\"\".join(map(str,lines[8:]))\n",
    "            f.close()\n",
    "    def draw_hydrogen_bonds(self):\n",
    "        pass\n",
    "        \n",
    "    def put_everything_together(self):\n",
    "        molecule_list = [self.filestart]+[self.draw_molecule]+[self.draw_plots]+[self.end_symbol]\n",
    "        self.final_molecule = \"\".join(map(str,molecule_list))\n",
    "    def write_final_draw_file(self, output_name):\n",
    "        finalsvg = open(output_name+\".svg\",\"w\")\n",
    "        finalsvg.writelines(self.final_molecule)\n",
    "        finalsvg.close()"
   ]
  },
  {
   "cell_type": "code",
   "execution_count": null,
   "metadata": {
    "collapsed": false
   },
   "outputs": [],
   "source": [
    "fig = Figure(molecule,topol_data)"
   ]
  },
  {
   "cell_type": "code",
   "execution_count": null,
   "metadata": {
    "collapsed": false
   },
   "outputs": [],
   "source": [
    "fig.add_bigger_box()\n",
    "fig.manage_the_plots()\n",
    "fig.put_everything_together()\n",
    "fig.write_final_draw_file(\"test1\")"
   ]
  },
  {
   "cell_type": "code",
   "execution_count": null,
   "metadata": {
    "collapsed": false
   },
   "outputs": [],
   "source": [
    "SVG(\"test1.svg\")"
   ]
  },
  {
   "cell_type": "code",
   "execution_count": 242,
   "metadata": {
    "collapsed": false
   },
   "outputs": [
    {
     "ename": "SyntaxError",
     "evalue": "invalid syntax (<ipython-input-242-f98a4dc25300>, line 3)",
     "output_type": "error",
     "traceback": [
      "\u001b[0;36m  File \u001b[0;32m\"<ipython-input-242-f98a4dc25300>\"\u001b[0;36m, line \u001b[0;32m3\u001b[0m\n\u001b[0;31m    def __init__(self,topology,trajectory,mol2_file,ligand,offset,cutoff,start_frame,end_frame,skip,analysis_cutoff,hbond_distance,diagram_type,output_name)\u001b[0m\n\u001b[0m                                                                                                                                                            ^\u001b[0m\n\u001b[0;31mSyntaxError\u001b[0m\u001b[0;31m:\u001b[0m invalid syntax\n"
     ]
    }
   ],
   "source": [
    "class Lintools(object):\n",
    "    __version__ = \"09.2016\"\n",
    "    def __init__(self,topology,trajectory,mol2_file,ligand,offset,cutoff,start_frame,end_frame,skip,analysis_cutoff,hbond_distance,diagram_type,output_name)\n",
    "        self.topology = topology\n",
    "        self.trajectory = trajectory\n",
    "        self.mol2_file = mol2_file\n",
    "        self.ligand = ligand\n",
    "        self.offset = offset\n",
    "        self.cutoff = cutoff\n",
    "        self.start = start_frame\n",
    "        self.end = end_frame\n",
    "        self.skip = skip \n",
    "        self.analysis_cutoff = analysis_cutoff\n",
    "        self.distance = hbond_distance\n",
    "        self.diagram_type = diagram_type\n",
    "        self.output_name = output_name\n",
    "    def data_input_and_res_time_analysis(self):\n",
    "        self.topol_data = Data()\n",
    "        self.topol_data.load_data(self.topology,self.mol2_file,self.ligand,self.offset)\n",
    "        if self.trajectory == None:\n",
    "            self.topol_data.analyse_topology(self.cutoff)\n",
    "        else:\n",
    "            self.res_time = Residence_time(self.topol_data,self.trajectory, self.start, self.end, self.skip)\n",
    "            self.res_time.measure_residence_time(self.cutoff)\n",
    "            self.res_time.define_residues_for_plotting_traj(self.analysis_cutoff)\n",
    "    def analysis_of_prot_lig_interactions(self):\n",
    "        self.hbonds = HBonds(self.topol_data,self.trajectory,self.start,self.end,self.skip,self.distance,self.analysis_cutoff)\n",
    "    def plot_residues(self):\n",
    "        self.plots = Plots(self.topol_data,self.diagram_type)\n",
    "    def draw_molecule(self):\n",
    "        self.molecule = Molecule(self.topol_data)\n",
    "    def draw_figure(self):\n",
    "        self.figure = Figure(self.molecule,self.topol_data)\n",
    "        self.figure.add_bigger_box()\n",
    "        self.manage_the_plots()\n",
    "        self.put_everything_together()\n",
    "        self.write_final_draw_file(self.output_name)"
   ]
  },
  {
   "cell_type": "code",
   "execution_count": 243,
   "metadata": {
    "collapsed": false
   },
   "outputs": [],
   "source": [
    "\n",
    "import sys\n",
    "\n",
    "class ProgressBar(object):\n",
    "    __author__ = \"Laura Domicevica\"\n",
    "    __version__ = \"09.2016\"\n",
    "    \"\"\"\n",
    "    Shows the progress of analysis in frame rate and percentage. \n",
    "    In August 2016, used for residence time analysis, since others are shown by MDAnalysis.\n",
    "    \"\"\"\n",
    "    def __init__(self, title):\n",
    "        self.title = title\n",
    "    def update(self, frame_n, total_n_frames):\n",
    "        percentage = frame_n/float(total_n_frames)*100\n",
    "        percent_text = str(int(percentage))+\"%\"\n",
    "        sys.stdout.write(\"   \"+ self.title +\"   frame    \"+ str(frame_n)+\"/\"+str(total_n_frames)+\"   [\"+percent_text+\"]\"+ \"\\r\")\n",
    "        sys.stdout.flush()\n",
    "    def finish(self, total_n_frames):\n",
    "        sys.stdout.write(\"   \"+ self.title +\"   frame    \"+ str(total_n_frames)+\"/\"+str(total_n_frames)+\"   [100%]\"+ \"\\r\")"
   ]
  },
  {
   "cell_type": "code",
   "execution_count": null,
   "metadata": {
    "collapsed": true
   },
   "outputs": [],
   "source": [
    "import csv"
   ]
  },
  {
   "cell_type": "code",
   "execution_count": null,
   "metadata": {
    "collapsed": false
   },
   "outputs": [],
   "source": [
    "mole = Mol"
   ]
  },
  {
   "cell_type": "code",
   "execution_count": 119,
   "metadata": {
    "collapsed": true
   },
   "outputs": [],
   "source": [
    "from MDAnalysis.analysis.density import density_from_Universe"
   ]
  },
  {
   "cell_type": "code",
   "execution_count": 120,
   "metadata": {
    "collapsed": false
   },
   "outputs": [],
   "source": [
    "mdu = MDAnalysis.Universe(\"/Users/lauradomicevica/matteo_files/BI2356.gro\",\"/Users/lauradomicevica/matteo_files/BI2356.xtc\")"
   ]
  },
  {
   "cell_type": "code",
   "execution_count": 122,
   "metadata": {
    "collapsed": false
   },
   "outputs": [
    {
     "name": "stderr",
     "output_type": "stream",
     "text": [
      "Histogramming  15164 atoms in frame  5001/5001  [100.0%]\n"
     ]
    }
   ],
   "source": [
    "D = density_from_Universe(mdu,delta=1.0,atomselection=\"name OW\")"
   ]
  },
  {
   "cell_type": "code",
   "execution_count": 251,
   "metadata": {
    "collapsed": false
   },
   "outputs": [
    {
     "name": "stdout",
     "output_type": "stream",
     "text": [
      "Dockerfile      README.md       \u001b[34mlintools\u001b[m\u001b[m/       setup.py\r\n",
      "LICENCE.md      Untitled.ipynb  molecule.svg    topol.ipynb\r\n"
     ]
    }
   ],
   "source": [
    "\n"
   ]
  },
  {
   "cell_type": "code",
   "execution_count": null,
   "metadata": {
    "collapsed": true
   },
   "outputs": [],
   "source": [
    "data = Data.__init__"
   ]
  },
  {
   "cell_type": "code",
   "execution_count": null,
   "metadata": {
    "collapsed": true
   },
   "outputs": [],
   "source": [
    "data = Data"
   ]
  },
  {
   "cell_type": "code",
   "execution_count": null,
   "metadata": {
    "collapsed": false
   },
   "outputs": [],
   "source": [
    "\n",
    "\n",
    "\n"
   ]
  },
  {
   "cell_type": "code",
   "execution_count": 225,
   "metadata": {
    "collapsed": false
   },
   "outputs": [
    {
     "data": {
      "text/plain": [
       "array([19564, 19565, 19566, 19567, 19568, 19569, 19570, 19571, 19572,\n",
       "       19573, 19574, 19575, 19576, 19577, 19578, 19579, 19580, 19581,\n",
       "       19582, 19583, 19584])"
      ]
     },
     "execution_count": 225,
     "metadata": {},
     "output_type": "execute_result"
    }
   ],
   "source": [
    "\n"
   ]
  },
  {
   "cell_type": "code",
   "execution_count": 230,
   "metadata": {
    "collapsed": false
   },
   "outputs": [],
   "source": []
  },
  {
   "cell_type": "code",
   "execution_count": 231,
   "metadata": {
    "collapsed": false
   },
   "outputs": [],
   "source": []
  },
  {
   "cell_type": "code",
   "execution_count": 233,
   "metadata": {
    "collapsed": false
   },
   "outputs": [],
   "source": []
  },
  {
   "cell_type": "code",
   "execution_count": 234,
   "metadata": {
    "collapsed": false
   },
   "outputs": [
    {
     "data": {
      "text/plain": [
       "array([[  4.00880314e-02,   3.15948725e-01,   2.85124451e-01,\n",
       "          2.60905385e-01,   2.16870725e-01,   2.67510593e-01,\n",
       "          3.20352167e-01,   2.04761192e-01,   2.05862045e-01,\n",
       "          2.47694984e-01,   7.70606613e-03,   2.28980243e-01,\n",
       "          4.73372638e-02,   7.70606613e-03,   2.53199320e-02,\n",
       "          9.90779884e-03,   2.63107121e-01,   1.99256852e-01,\n",
       "          1.29902259e-01,   4.87683892e-01,   4.11724091e-01],\n",
       "       [  9.03215166e-03,   3.20699990e-01,   3.19565207e-01,\n",
       "          2.76604742e-01,   2.77657121e-01,   3.20646673e-01,\n",
       "          3.16301376e-01,   1.04807734e-01,   1.58751428e-01,\n",
       "          2.24849463e-01,   8.48335094e-06,   2.40240991e-01,\n",
       "          5.39945737e-02,   2.09249482e-02,   3.41547392e-02,\n",
       "          1.10195726e-02,   2.63396770e-01,   2.75435984e-01,\n",
       "          2.06005052e-01,   5.16843319e-01,   5.55290043e-01],\n",
       "       [  2.86416989e-02,   3.17402631e-01,   3.32813531e-01,\n",
       "          2.61209905e-01,   2.75522292e-01,   3.12999099e-01,\n",
       "          3.32809895e-01,   1.49833247e-01,   2.00532481e-01,\n",
       "          2.14916512e-01,   1.10086752e-02,   1.43377125e-01,\n",
       "          4.95984368e-02,   3.08472998e-02,   4.29713987e-02,\n",
       "          1.43233966e-02,   2.68901408e-01,   2.61208594e-01,\n",
       "          2.31408775e-01,   5.36691010e-01,   5.91776669e-01],\n",
       "       [  1.55677712e-02,   3.27306777e-01,   3.13012511e-01,\n",
       "          2.65596390e-01,   2.73318231e-01,   3.35007995e-01,\n",
       "          3.11911643e-01,   1.25663742e-01,   1.97275877e-01,\n",
       "          2.27015123e-01,   3.31471884e-03,   2.24734619e-01,\n",
       "          5.06944656e-02,   2.31521577e-02,   3.08715720e-02,\n",
       "          1.54279005e-02,   2.68907487e-01,   2.25965202e-01,\n",
       "          1.88502938e-01,   5.59831023e-01,   5.49983919e-01],\n",
       "       [  1.27363537e-05,   3.20712507e-01,   2.72258639e-01,\n",
       "          2.63399512e-01,   2.17171609e-01,   2.75585443e-01,\n",
       "          3.16292107e-01,   2.06000403e-01,   1.43329844e-01,\n",
       "          2.39137962e-01,   3.64906327e-06,   2.71060586e-01,\n",
       "          4.29896042e-02,   1.43367536e-02,   1.32443840e-02,\n",
       "          1.11785065e-03,   2.46890143e-01,   2.43540272e-01,\n",
       "          2.29187772e-01,   3.90323043e-01,   4.50859904e-01],\n",
       "       [  2.53618266e-02,   3.17402631e-01,   3.23954523e-01,\n",
       "          2.77708352e-01,   2.68850505e-01,   3.18453819e-01,\n",
       "          3.27305555e-01,   1.76365420e-01,   1.85103372e-01,\n",
       "          2.39151314e-01,   1.10087066e-03,   1.27998918e-01,\n",
       "          2.97707245e-02,   4.73530442e-02,   2.20319126e-02,\n",
       "          8.80816299e-03,   2.52370238e-01,   2.71081269e-01,\n",
       "          2.43543819e-01,   5.92695892e-01,   5.36618352e-01],\n",
       "       [  2.07490957e-05,   3.09692919e-01,   3.31717491e-01,\n",
       "          2.71118909e-01,   2.38083169e-01,   3.12996686e-01,\n",
       "          3.29519421e-01,   1.54315472e-01,   2.06065834e-01,\n",
       "          2.20436588e-01,   4.40467848e-03,   2.48936743e-01,\n",
       "          5.06726354e-02,   3.35472915e-03,   3.08485180e-02,\n",
       "          9.91749577e-03,   2.63384938e-01,   1.79739684e-01,\n",
       "          2.53467441e-01,   3.51828933e-01,   5.74142218e-01],\n",
       "       [  3.68155576e-02,   3.22894841e-01,   3.18515629e-01,\n",
       "          2.70010769e-01,   2.68873543e-01,   3.30604523e-01,\n",
       "          3.14109743e-01,   1.77409396e-01,   1.98382840e-01,\n",
       "          2.31424645e-01,   1.10571552e-03,   1.84118763e-01,\n",
       "          5.28973825e-02,   2.75253579e-02,   2.86564920e-02,\n",
       "          6.61611697e-03,   2.70002276e-01,   2.42388532e-01,\n",
       "          1.81922019e-01,   5.50820649e-01,   5.90696573e-01],\n",
       "       [  3.84819061e-02,   3.19606751e-01,   2.76668161e-01,\n",
       "          2.74413049e-01,   2.55697042e-01,   2.44756326e-01,\n",
       "          3.21798831e-01,   1.95048690e-01,   1.89567447e-01,\n",
       "          2.36941069e-01,   4.40468360e-03,   2.37989873e-01,\n",
       "          4.73954976e-02,   3.33290151e-03,   3.74610089e-02,\n",
       "          1.54194161e-02,   2.66706944e-01,   2.32549682e-01,\n",
       "          1.32304266e-01,   5.70855260e-01,   3.71642321e-01],\n",
       "       [  2.78476700e-02,   3.24006617e-01,   2.74420351e-01,\n",
       "          2.75518745e-01,   2.60086000e-01,   2.45762691e-01,\n",
       "          3.10798645e-01,   1.74151644e-01,   2.00566411e-01,\n",
       "          2.28140220e-01,   2.20658211e-03,   1.69795454e-01,\n",
       "          5.28937690e-02,   8.81060213e-03,   3.30672376e-02,\n",
       "          1.43282395e-02,   2.65602469e-01,   2.51253575e-01,\n",
       "          2.42336303e-01,   3.87032628e-01,   5.35430312e-01],\n",
       "       [  2.86570918e-02,   3.13002795e-01,   2.92031735e-01,\n",
       "          2.70015627e-01,   2.24863097e-01,   2.82092392e-01,\n",
       "          3.25097769e-01,   2.07154632e-01,   1.81863785e-01,\n",
       "          2.25928813e-01,   2.42915257e-06,   2.54487097e-01,\n",
       "          5.06980941e-02,   6.61489880e-03,   2.42554676e-02,\n",
       "          3.31837335e-03,   2.60096908e-01,   2.43568107e-01,\n",
       "          1.23563841e-01,   5.76179266e-01,   3.92497957e-01],\n",
       "       [  4.09296006e-02,   3.30604523e-01,   3.19572777e-01,\n",
       "          2.73312181e-01,   2.65556395e-01,   3.22864473e-01,\n",
       "          3.09701413e-01,   1.96182296e-01,   2.07163110e-01,\n",
       "          2.29228958e-01,   1.10086927e-03,   1.99537009e-01,\n",
       "          5.17965406e-02,   7.71334814e-03,   2.53466330e-02,\n",
       "          6.60885265e-03,   2.53485650e-01,   2.28147507e-01,\n",
       "          1.11323558e-01,   5.29050231e-01,   5.79487920e-01],\n",
       "       [  2.86677964e-02,   3.14110935e-01,   2.94283181e-01,\n",
       "          2.81021863e-01,   2.35877797e-01,   3.08598101e-01,\n",
       "          3.30600917e-01,   1.95069358e-01,   1.80770174e-01,\n",
       "          2.36938670e-01,   1.21191022e-06,   2.69931972e-01,\n",
       "          3.30830179e-02,   2.09249575e-02,   2.20452361e-02,\n",
       "          4.41074185e-03,   2.27057561e-01,   2.54551351e-01,\n",
       "          1.06906615e-01,   5.88445187e-01,   4.39883679e-01],\n",
       "       [  2.34537874e-05,   3.16294521e-01,   2.89851874e-01,\n",
       "          2.60113895e-01,   2.12726921e-01,   2.90968508e-01,\n",
       "          3.32825661e-01,   1.92866400e-01,   1.98354989e-01,\n",
       "          2.05022022e-01,   4.40346729e-03,   2.55698204e-01,\n",
       "          5.17771468e-02,   1.12390216e-03,   3.41511331e-02,\n",
       "          2.20658886e-03,   2.71063119e-01,   1.74217150e-01,\n",
       "          2.52216130e-01,   3.35311234e-01,   4.60646480e-01],\n",
       "       [  3.92699279e-02,   3.17397773e-01,   3.14066082e-01,\n",
       "          2.53485680e-01,   2.78753430e-01,   3.19571614e-01,\n",
       "          3.29525501e-01,   9.37859863e-02,   1.73054427e-01,\n",
       "          2.18197286e-01,   1.10571424e-03,   1.91832289e-01,\n",
       "          5.06968610e-02,   3.19263674e-02,   3.52653228e-02,\n",
       "          1.54145621e-02,   2.70010710e-01,   2.46785909e-01,\n",
       "          2.73292571e-01,   5.75021505e-01,   4.12231207e-01],\n",
       "       [  3.19389291e-02,   3.27306777e-01,   3.09689254e-01,\n",
       "          2.82100886e-01,   2.84330457e-01,   2.81072795e-01,\n",
       "          3.17412347e-01,   1.49821103e-01,   1.86236963e-01,\n",
       "          2.32523054e-01,   1.10208383e-03,   2.61116564e-01,\n",
       "          5.50991409e-02,   1.32455453e-02,   2.53587533e-02,\n",
       "          1.32273687e-02,   2.73312181e-01,   1.68704271e-01,\n",
       "          1.20295316e-01,   4.02449310e-01,   5.66299260e-01],\n",
       "       [  3.19329277e-02,   3.22914213e-01,   3.20693105e-01,\n",
       "          2.67821133e-01,   2.79933125e-01,   3.07451189e-01,\n",
       "          3.32811147e-01,   1.63093194e-01,   2.04966202e-01,\n",
       "          2.35841423e-01,   2.20294623e-03,   1.66518301e-01,\n",
       "          4.51961868e-02,   2.31327787e-02,   2.97513139e-02,\n",
       "          1.10232271e-02,   2.74416655e-01,   2.41275504e-01,\n",
       "          1.86178893e-01,   5.32161653e-01,   5.75275779e-01],\n",
       "       [  3.27510498e-02,   3.26211989e-01,   2.85477459e-01,\n",
       "          2.70007163e-01,   2.65617013e-01,   2.30419576e-01,\n",
       "          3.22920293e-01,   1.92831188e-01,   1.85171217e-01,\n",
       "          2.40248546e-01,   1.10329175e-03,   2.74299085e-01,\n",
       "          4.84878868e-02,   8.83239787e-03,   2.20500827e-02,\n",
       "          1.76260024e-02,   2.75518745e-01,   2.24842399e-01,\n",
       "          1.40015021e-01,   5.66431284e-01,   3.17682862e-01],\n",
       "       [  4.09329496e-02,   3.18509549e-01,   3.21767300e-01,\n",
       "          2.59000897e-01,   2.36978740e-01,   3.23908418e-01,\n",
       "          3.30615491e-01,   1.93964809e-01,   1.98359847e-01,\n",
       "          2.29244739e-01,   4.40468127e-03,   2.29282215e-01,\n",
       "          4.29871753e-02,   9.91752278e-03,   2.86468044e-02,\n",
       "          9.92720295e-03,   2.82125145e-01,   2.14916497e-01,\n",
       "          1.00332998e-01,   5.30140400e-01,   5.24362206e-01],\n",
       "       [  3.60309035e-02,   3.18501085e-01,   2.84377813e-01,\n",
       "          2.65593976e-01,   2.57863641e-01,   3.22910488e-01,\n",
       "          3.24018747e-01,   1.93966061e-01,   1.89567432e-01,\n",
       "          2.27030888e-01,   2.20658211e-03,   2.17123121e-01,\n",
       "          4.84854542e-02,   6.61611697e-03,   2.75532007e-02,\n",
       "          7.71699473e-03,   2.68922031e-01,   2.06098646e-01,\n",
       "          1.25609249e-01,   5.73034227e-01,   4.03494418e-01],\n",
       "       [  2.37550475e-02,   3.17400187e-01,   3.26169550e-01,\n",
       "          2.66702086e-01,   2.67794460e-01,   3.17405045e-01,\n",
       "          3.26213241e-01,   1.84058249e-01,   1.98364690e-01,\n",
       "          2.25927591e-01,   3.30502889e-03,   2.11605415e-01,\n",
       "          5.06932400e-02,   1.76211502e-02,   3.08545977e-02,\n",
       "          5.51282847e-03,   2.43587568e-01,   2.53426194e-01,\n",
       "          1.25637069e-01,   5.74182272e-01,   5.89407802e-01]], dtype=float32)"
      ]
     },
     "execution_count": 234,
     "metadata": {},
     "output_type": "execute_result"
    }
   ],
   "source": []
  },
  {
   "cell_type": "code",
   "execution_count": 232,
   "metadata": {
    "collapsed": false
   },
   "outputs": [],
   "source": [
    "data = \n",
    "\n",
    "\n"
   ]
  },
  {
   "cell_type": "code",
   "execution_count": 224,
   "metadata": {
    "collapsed": false
   },
   "outputs": [],
   "source": [
    "mdtraj.load?"
   ]
  },
  {
   "cell_type": "code",
   "execution_count": null,
   "metadata": {
    "collapsed": false
   },
   "outputs": [],
   "source": [
    "from shapely import geometry\n",
    "\n",
    "In [2]: a = geometry.MultiPoint([[468.988, 119.169], [584.06, 84.2478], [644.545, 283.558], [732.323, 365.752], [786.91, 131.521], [238.845, 189.011]])"
   ]
  },
  {
   "cell_type": "code",
   "execution_count": null,
   "metadata": {
    "collapsed": true
   },
   "outputs": [],
   "source": []
  }
 ],
 "metadata": {
  "kernelspec": {
   "display_name": "Python 2",
   "language": "python",
   "name": "python2"
  },
  "language_info": {
   "codemirror_mode": {
    "name": "ipython",
    "version": 2
   },
   "file_extension": ".py",
   "mimetype": "text/x-python",
   "name": "python",
   "nbconvert_exporter": "python",
   "pygments_lexer": "ipython2",
   "version": "2.7.12"
  }
 },
 "nbformat": 4,
 "nbformat_minor": 0
}
